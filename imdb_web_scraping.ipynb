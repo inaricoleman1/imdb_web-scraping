{
  "nbformat": 4,
  "nbformat_minor": 0,
  "metadata": {
    "colab": {
      "provenance": [],
      "include_colab_link": true
    },
    "kernelspec": {
      "name": "python3",
      "display_name": "Python 3"
    },
    "language_info": {
      "name": "python"
    }
  },
  "cells": [
    {
      "cell_type": "markdown",
      "metadata": {
        "id": "view-in-github",
        "colab_type": "text"
      },
      "source": [
        "<a href=\"https://colab.research.google.com/github/inaricoleman1/imdb_web-scraping/blob/main/imdb_web_scraping.ipynb\" target=\"_parent\"><img src=\"https://colab.research.google.com/assets/colab-badge.svg\" alt=\"Open In Colab\"/></a>"
      ]
    },
    {
      "cell_type": "markdown",
      "source": [
        "# **Page 1-50**\n",
        "\n",
        "---\n",
        "\n"
      ],
      "metadata": {
        "id": "GYReyDO-l84y"
      }
    },
    {
      "cell_type": "code",
      "source": [
        "import pandas as pd\n",
        "import requests\n",
        "from bs4 import BeautifulSoup\n",
        "import numpy as np\n",
        "import csv \n",
        "#import json\n",
        "#from pandas import json_normalize\n",
        "#!pip install flatten_json\n",
        "#from flatten_json import flatten\n",
        "#URL='https://www.scrapethissite.com/pages/simple/'"
      ],
      "metadata": {
        "id": "z_lYamVmTPkT"
      },
      "execution_count": 108,
      "outputs": []
    },
    {
      "cell_type": "code",
      "source": [
        "#api_key='k_dzrtuvoo' #Enter your API key here\n",
        "#title_code='tt0411008' #Enter the title of the film you want to lookup\n",
        "\n",
        "url = \"https://www.imdb.com/search/title/?groups=top_250&sort=user_rating\" # Enter the API URL\n",
        "page=requests.get(url)"
      ],
      "metadata": {
        "id": "u4mPIdbkVkas"
      },
      "execution_count": 29,
      "outputs": []
    },
    {
      "cell_type": "code",
      "source": [
        "print(page)"
      ],
      "metadata": {
        "id": "gRHXbIB6zAQr",
        "colab": {
          "base_uri": "https://localhost:8080/"
        },
        "outputId": "fe076a7c-792a-493d-8ef5-3780fcf65d85"
      },
      "execution_count": 30,
      "outputs": [
        {
          "output_type": "stream",
          "name": "stdout",
          "text": [
            "<Response [200]>\n"
          ]
        }
      ]
    },
    {
      "cell_type": "code",
      "source": [
        "soup = BeautifulSoup(page.content, \"html.parser\")"
      ],
      "metadata": {
        "id": "HsnwxfXwzBM0"
      },
      "execution_count": 31,
      "outputs": []
    },
    {
      "cell_type": "code",
      "source": [
        "print(soup.prettify())"
      ],
      "metadata": {
        "id": "eD4EBRoOdlE_"
      },
      "execution_count": null,
      "outputs": []
    },
    {
      "cell_type": "code",
      "source": [
        "heading = res.find(class_ = \"genre\")\n",
        "print(heading)"
      ],
      "metadata": {
        "id": "tfYqZD38e2QX",
        "colab": {
          "base_uri": "https://localhost:8080/"
        },
        "outputId": "ae3759e5-cbd9-43cb-dc3f-1e905a9c05af"
      },
      "execution_count": 36,
      "outputs": [
        {
          "output_type": "stream",
          "name": "stdout",
          "text": [
            "<span class=\"genre\">\n",
            "Drama            </span>\n"
          ]
        }
      ]
    },
    {
      "cell_type": "code",
      "source": [
        "heading.text"
      ],
      "metadata": {
        "id": "AIjjFiwDfIfF"
      },
      "execution_count": null,
      "outputs": []
    },
    {
      "cell_type": "code",
      "source": [
        "print(soup.title)"
      ],
      "metadata": {
        "id": "4f75oPwAcdNt"
      },
      "execution_count": null,
      "outputs": []
    },
    {
      "cell_type": "code",
      "source": [
        "soup.find_all('p')[0].get_text()"
      ],
      "metadata": {
        "id": "Gv9n32Y3TTY4",
        "colab": {
          "base_uri": "https://localhost:8080/",
          "height": 35
        },
        "outputId": "92fe2345-0a3a-4793-e6de-ac1747dbacde"
      },
      "execution_count": 40,
      "outputs": [
        {
          "output_type": "execute_result",
          "data": {
            "text/plain": [
              "'\\nR\\n|\\n142 min\\n|\\n\\nDrama            \\n'"
            ],
            "application/vnd.google.colaboratory.intrinsic+json": {
              "type": "string"
            }
          },
          "metadata": {},
          "execution_count": 40
        }
      ]
    },
    {
      "cell_type": "code",
      "source": [
        "genre = soup.find_all(\"span\",class_='genre')\n",
        "print(genre)"
      ],
      "metadata": {
        "id": "6mtiC01oTY9g"
      },
      "execution_count": null,
      "outputs": []
    },
    {
      "cell_type": "code",
      "source": [
        "rating = soup.find_all(\"span\",class_=\"certificate\")\n",
        "print(rating)"
      ],
      "metadata": {
        "colab": {
          "base_uri": "https://localhost:8080/"
        },
        "id": "yCT-RSGFiSE2",
        "outputId": "63065e19-1d9a-44d8-a9bc-490a7e684000"
      },
      "execution_count": 43,
      "outputs": [
        {
          "output_type": "stream",
          "name": "stdout",
          "text": [
            "[<span class=\"certificate\">R</span>, <span class=\"certificate\">R</span>, <span class=\"certificate\">PG-13</span>, <span class=\"certificate\">R</span>, <span class=\"certificate\">R</span>, <span class=\"certificate\">Approved</span>, <span class=\"certificate\">PG-13</span>, <span class=\"certificate\">R</span>, <span class=\"certificate\">PG-13</span>, <span class=\"certificate\">R</span>, <span class=\"certificate\">PG-13</span>, <span class=\"certificate\">PG-13</span>, <span class=\"certificate\">Approved</span>, <span class=\"certificate\">PG-13</span>, <span class=\"certificate\">TV-MA</span>, <span class=\"certificate\">R</span>, <span class=\"certificate\">R</span>, <span class=\"certificate\">18+</span>, <span class=\"certificate\">PG</span>, <span class=\"certificate\">PG-13</span>, <span class=\"certificate\">R</span>, <span class=\"certificate\">PG-13</span>, <span class=\"certificate\">R</span>, <span class=\"certificate\">R</span>, <span class=\"certificate\">PG</span>, <span class=\"certificate\">R</span>, <span class=\"certificate\">R</span>, <span class=\"certificate\">PG</span>, <span class=\"certificate\">R</span>, <span class=\"certificate\">PG</span>, <span class=\"certificate\">Not Rated</span>, <span class=\"certificate\">Not Rated</span>, <span class=\"certificate\">R</span>, <span class=\"certificate\">R</span>, <span class=\"certificate\">PG-13</span>, <span class=\"certificate\">R</span>, <span class=\"certificate\">R</span>, <span class=\"certificate\">R</span>, <span class=\"certificate\">R</span>, <span class=\"certificate\">R</span>, <span class=\"certificate\">PG</span>, <span class=\"certificate\">R</span>, <span class=\"certificate\">R</span>, <span class=\"certificate\">G</span>, <span class=\"certificate\">R</span>, <span class=\"certificate\">R</span>, <span class=\"certificate\">PG-13</span>, <span class=\"certificate\">PG</span>, <span class=\"certificate\">R</span>, <span class=\"certificate\">Not Rated</span>]\n"
          ]
        }
      ]
    },
    {
      "cell_type": "code",
      "source": [
        "year = soup.find_all(\"span\",class_=\"lister-item-year text-muted unbold\")\n",
        "print(year)"
      ],
      "metadata": {
        "colab": {
          "base_uri": "https://localhost:8080/"
        },
        "id": "KG6vd9lxqe5Q",
        "outputId": "7d10ec5d-3a71-421f-ab5b-38be37f65b66"
      },
      "execution_count": 44,
      "outputs": [
        {
          "output_type": "stream",
          "name": "stdout",
          "text": [
            "[<span class=\"lister-item-year text-muted unbold\">(1994)</span>, <span class=\"lister-item-year text-muted unbold\">(1972)</span>, <span class=\"lister-item-year text-muted unbold\">(2008)</span>, <span class=\"lister-item-year text-muted unbold\">(1993)</span>, <span class=\"lister-item-year text-muted unbold\">(1974)</span>, <span class=\"lister-item-year text-muted unbold\">(1957)</span>, <span class=\"lister-item-year text-muted unbold\">(2003)</span>, <span class=\"lister-item-year text-muted unbold\">(1994)</span>, <span class=\"lister-item-year text-muted unbold\">(2010)</span>, <span class=\"lister-item-year text-muted unbold\">(1999)</span>, <span class=\"lister-item-year text-muted unbold\">(2001)</span>, <span class=\"lister-item-year text-muted unbold\">(1994)</span>, <span class=\"lister-item-year text-muted unbold\">(1966)</span>, <span class=\"lister-item-year text-muted unbold\">(2002)</span>, <span class=\"lister-item-year text-muted unbold\">(2021)</span>, <span class=\"lister-item-year text-muted unbold\">(1990)</span>, <span class=\"lister-item-year text-muted unbold\">(1999)</span>, <span class=\"lister-item-year text-muted unbold\">(1975)</span>, <span class=\"lister-item-year text-muted unbold\">(1980)</span>, <span class=\"lister-item-year text-muted unbold\">(2014)</span>, <span class=\"lister-item-year text-muted unbold\">(1995)</span>, <span class=\"lister-item-year text-muted unbold\">(1997)</span>, <span class=\"lister-item-year text-muted unbold\">(1999)</span>, <span class=\"lister-item-year text-muted unbold\">(1991)</span>, <span class=\"lister-item-year text-muted unbold\">(1977)</span>, <span class=\"lister-item-year text-muted unbold\">(1998)</span>, <span class=\"lister-item-year text-muted unbold\">(1991)</span>, <span class=\"lister-item-year text-muted unbold\">(2001)</span>, <span class=\"lister-item-year text-muted unbold\">(2002)</span>, <span class=\"lister-item-year text-muted unbold\">(1946)</span>, <span class=\"lister-item-year text-muted unbold\">(1954)</span>, <span class=\"lister-item-year text-muted unbold\">(1962)</span>, <span class=\"lister-item-year text-muted unbold\">(2014)</span>, <span class=\"lister-item-year text-muted unbold\">(2019)</span>, <span class=\"lister-item-year text-muted unbold\">(2006)</span>, <span class=\"lister-item-year text-muted unbold\">(2006)</span>, <span class=\"lister-item-year text-muted unbold\">(1994)</span>, <span class=\"lister-item-year text-muted unbold\">(2000)</span>, <span class=\"lister-item-year text-muted unbold\">(1979)</span>, <span class=\"lister-item-year text-muted unbold\">(1979)</span>, <span class=\"lister-item-year text-muted unbold\">(1985)</span>, <span class=\"lister-item-year text-muted unbold\">(1995)</span>, <span class=\"lister-item-year text-muted unbold\">(1998)</span>, <span class=\"lister-item-year text-muted unbold\">(1994)</span>, <span class=\"lister-item-year text-muted unbold\">(2002)</span>, <span class=\"lister-item-year text-muted unbold\">(2011)</span>, <span class=\"lister-item-year text-muted unbold\">(1968)</span>, <span class=\"lister-item-year text-muted unbold\">(1942)</span>, <span class=\"lister-item-year text-muted unbold\">(1960)</span>, <span class=\"lister-item-year text-muted unbold\">(1988)</span>]\n"
          ]
        }
      ]
    },
    {
      "cell_type": "code",
      "source": [
        "title = soup.find_all(\"h3\",class_=\"lister-item-header\")\n",
        "print(title)"
      ],
      "metadata": {
        "id": "UTCBZ2BOrk1K"
      },
      "execution_count": null,
      "outputs": []
    },
    {
      "cell_type": "code",
      "source": [
        "gross = soup.find_all(\"p\", class_=\"sort-num_votes-visible\")\n",
        "print(gross)"
      ],
      "metadata": {
        "id": "Dskadtlc7wnh"
      },
      "execution_count": null,
      "outputs": []
    },
    {
      "cell_type": "code",
      "source": [
        "run_time = soup.find_all(\"span\",class_=\"runtime\")"
      ],
      "metadata": {
        "id": "aGJUxv6Pl3Gi"
      },
      "execution_count": 151,
      "outputs": []
    },
    {
      "cell_type": "code",
      "source": [
        "user_rating = soup.find_all(\"div\", class_=\"inline-block ratings-imdb-rating\")"
      ],
      "metadata": {
        "id": "dMDsAPDMllbL"
      },
      "execution_count": 152,
      "outputs": []
    },
    {
      "cell_type": "code",
      "source": [
        "num_votes = [i.text.strip() for i in gross]\n",
        "print(movie_gross[:0])\n",
        "print(movie_gross[1].split('\\n'))"
      ],
      "metadata": {
        "colab": {
          "base_uri": "https://localhost:8080/"
        },
        "outputId": "af54021d-f579-42fd-82c4-7b05978ec7bf",
        "id": "voSTjtkwllbL"
      },
      "execution_count": 153,
      "outputs": [
        {
          "output_type": "stream",
          "name": "stdout",
          "text": [
            "[]\n",
            "['Votes:', '1,127,706', '| Gross:', '$70.51M', '| Top 250:', '#158']\n"
          ]
        }
      ]
    },
    {
      "cell_type": "code",
      "source": [
        "movie_gross = [i.text.strip() for i in gross]\n",
        "print(movie_gross[:0])\n",
        "print(movie_gross[1].split('\\n'))"
      ],
      "metadata": {
        "colab": {
          "base_uri": "https://localhost:8080/"
        },
        "id": "3gegoQZ872dx",
        "outputId": "66b0aa22-0472-4a43-9991-e65254f9970a"
      },
      "execution_count": 47,
      "outputs": [
        {
          "output_type": "stream",
          "name": "stdout",
          "text": [
            "[]\n",
            "['Votes:', '1,868,869', '| Gross:', '$134.97M', '| Top 250:', '#2']\n"
          ]
        }
      ]
    },
    {
      "cell_type": "code",
      "source": [
        "movie_titles = [i.text.strip() for i in title]\n",
        "print(movie_titles[:5])\n",
        "print(movie_titles[0].split('\\n'))"
      ],
      "metadata": {
        "colab": {
          "base_uri": "https://localhost:8080/"
        },
        "id": "j9aRPANl3WZR",
        "outputId": "522cb8a6-b28b-480a-a3f2-69f45157a411"
      },
      "execution_count": 154,
      "outputs": [
        {
          "output_type": "stream",
          "name": "stdout",
          "text": [
            "['151.\\nL.A. Confidential\\n(1997)', '152.\\nV for Vendetta\\n(2005)', '153.\\nUnforgiven\\n(1992)', '154.\\nDownfall\\n(2004)', '155.\\nSome Like It Hot\\n(1959)']\n",
            "['151.', 'L.A. Confidential', '(1997)']\n"
          ]
        }
      ]
    },
    {
      "cell_type": "code",
      "source": [
        "run_time = soup.find_all(\"span\",class_=\"runtime\")"
      ],
      "metadata": {
        "id": "2n9NXGnzaeqw"
      },
      "execution_count": 157,
      "outputs": []
    },
    {
      "cell_type": "code",
      "source": [
        "df1 = pd.DataFrame({'rating':[i.text.strip() for i in rating],\n",
        "              'genre': [i.text.strip() for i in genre],\n",
        "              'year':  [i.text.strip('()') for i in year],\n",
        "              'title': [i.split('\\n')[1] for i in movie_titles],\n",
        "              'gross': [i.split('\\n')[3] for i in movie_gross],\n",
        "              'imdb_ranking': [i.split('\\n')[-1] for i in movie_gross],\n",
        "              'runtime': [i.text.strip() for i in run_time],\n",
        "              'user_rating': [i.text.strip() for i in user_rating],\n",
        "              'num_votes': [i.split('\\n')[1] for i in movie_gross]})"
      ],
      "metadata": {
        "id": "735HV5gF1mb6"
      },
      "execution_count": 158,
      "outputs": []
    },
    {
      "cell_type": "code",
      "source": [
        "df1.head()"
      ],
      "metadata": {
        "colab": {
          "base_uri": "https://localhost:8080/",
          "height": 206
        },
        "id": "FvayJOe7DDdy",
        "outputId": "be41f23a-171e-4c77-9cb7-92779fb883ae"
      },
      "execution_count": 159,
      "outputs": [
        {
          "output_type": "execute_result",
          "data": {
            "text/plain": [
              "   rating                      genre  year              title     gross  \\\n",
              "0       R      Crime, Drama, Mystery  1997  L.A. Confidential   $64.62M   \n",
              "1       R      Action, Drama, Sci-Fi  2005     V for Vendetta   $70.51M   \n",
              "2       R             Drama, Western  1992         Unforgiven  $101.16M   \n",
              "3       R  Biography, Drama, History  2004           Downfall    $5.51M   \n",
              "4  Passed     Comedy, Music, Romance  1959   Some Like It Hot   $25.00M   \n",
              "\n",
              "  imdb_ranking  runtime user_rating  num_votes  \n",
              "0         #117  138 min         8.2    586,763  \n",
              "1         #158  132 min         8.2  1,127,706  \n",
              "2         #139  130 min         8.2    415,368  \n",
              "3         #124  156 min         8.2    358,555  \n",
              "4         #129  121 min         8.2    270,048  "
            ],
            "text/html": [
              "\n",
              "  <div id=\"df-3877d26c-26f8-4771-a636-30fdf62f87f2\">\n",
              "    <div class=\"colab-df-container\">\n",
              "      <div>\n",
              "<style scoped>\n",
              "    .dataframe tbody tr th:only-of-type {\n",
              "        vertical-align: middle;\n",
              "    }\n",
              "\n",
              "    .dataframe tbody tr th {\n",
              "        vertical-align: top;\n",
              "    }\n",
              "\n",
              "    .dataframe thead th {\n",
              "        text-align: right;\n",
              "    }\n",
              "</style>\n",
              "<table border=\"1\" class=\"dataframe\">\n",
              "  <thead>\n",
              "    <tr style=\"text-align: right;\">\n",
              "      <th></th>\n",
              "      <th>rating</th>\n",
              "      <th>genre</th>\n",
              "      <th>year</th>\n",
              "      <th>title</th>\n",
              "      <th>gross</th>\n",
              "      <th>imdb_ranking</th>\n",
              "      <th>runtime</th>\n",
              "      <th>user_rating</th>\n",
              "      <th>num_votes</th>\n",
              "    </tr>\n",
              "  </thead>\n",
              "  <tbody>\n",
              "    <tr>\n",
              "      <th>0</th>\n",
              "      <td>R</td>\n",
              "      <td>Crime, Drama, Mystery</td>\n",
              "      <td>1997</td>\n",
              "      <td>L.A. Confidential</td>\n",
              "      <td>$64.62M</td>\n",
              "      <td>#117</td>\n",
              "      <td>138 min</td>\n",
              "      <td>8.2</td>\n",
              "      <td>586,763</td>\n",
              "    </tr>\n",
              "    <tr>\n",
              "      <th>1</th>\n",
              "      <td>R</td>\n",
              "      <td>Action, Drama, Sci-Fi</td>\n",
              "      <td>2005</td>\n",
              "      <td>V for Vendetta</td>\n",
              "      <td>$70.51M</td>\n",
              "      <td>#158</td>\n",
              "      <td>132 min</td>\n",
              "      <td>8.2</td>\n",
              "      <td>1,127,706</td>\n",
              "    </tr>\n",
              "    <tr>\n",
              "      <th>2</th>\n",
              "      <td>R</td>\n",
              "      <td>Drama, Western</td>\n",
              "      <td>1992</td>\n",
              "      <td>Unforgiven</td>\n",
              "      <td>$101.16M</td>\n",
              "      <td>#139</td>\n",
              "      <td>130 min</td>\n",
              "      <td>8.2</td>\n",
              "      <td>415,368</td>\n",
              "    </tr>\n",
              "    <tr>\n",
              "      <th>3</th>\n",
              "      <td>R</td>\n",
              "      <td>Biography, Drama, History</td>\n",
              "      <td>2004</td>\n",
              "      <td>Downfall</td>\n",
              "      <td>$5.51M</td>\n",
              "      <td>#124</td>\n",
              "      <td>156 min</td>\n",
              "      <td>8.2</td>\n",
              "      <td>358,555</td>\n",
              "    </tr>\n",
              "    <tr>\n",
              "      <th>4</th>\n",
              "      <td>Passed</td>\n",
              "      <td>Comedy, Music, Romance</td>\n",
              "      <td>1959</td>\n",
              "      <td>Some Like It Hot</td>\n",
              "      <td>$25.00M</td>\n",
              "      <td>#129</td>\n",
              "      <td>121 min</td>\n",
              "      <td>8.2</td>\n",
              "      <td>270,048</td>\n",
              "    </tr>\n",
              "  </tbody>\n",
              "</table>\n",
              "</div>\n",
              "      <button class=\"colab-df-convert\" onclick=\"convertToInteractive('df-3877d26c-26f8-4771-a636-30fdf62f87f2')\"\n",
              "              title=\"Convert this dataframe to an interactive table.\"\n",
              "              style=\"display:none;\">\n",
              "        \n",
              "  <svg xmlns=\"http://www.w3.org/2000/svg\" height=\"24px\"viewBox=\"0 0 24 24\"\n",
              "       width=\"24px\">\n",
              "    <path d=\"M0 0h24v24H0V0z\" fill=\"none\"/>\n",
              "    <path d=\"M18.56 5.44l.94 2.06.94-2.06 2.06-.94-2.06-.94-.94-2.06-.94 2.06-2.06.94zm-11 1L8.5 8.5l.94-2.06 2.06-.94-2.06-.94L8.5 2.5l-.94 2.06-2.06.94zm10 10l.94 2.06.94-2.06 2.06-.94-2.06-.94-.94-2.06-.94 2.06-2.06.94z\"/><path d=\"M17.41 7.96l-1.37-1.37c-.4-.4-.92-.59-1.43-.59-.52 0-1.04.2-1.43.59L10.3 9.45l-7.72 7.72c-.78.78-.78 2.05 0 2.83L4 21.41c.39.39.9.59 1.41.59.51 0 1.02-.2 1.41-.59l7.78-7.78 2.81-2.81c.8-.78.8-2.07 0-2.86zM5.41 20L4 18.59l7.72-7.72 1.47 1.35L5.41 20z\"/>\n",
              "  </svg>\n",
              "      </button>\n",
              "      \n",
              "  <style>\n",
              "    .colab-df-container {\n",
              "      display:flex;\n",
              "      flex-wrap:wrap;\n",
              "      gap: 12px;\n",
              "    }\n",
              "\n",
              "    .colab-df-convert {\n",
              "      background-color: #E8F0FE;\n",
              "      border: none;\n",
              "      border-radius: 50%;\n",
              "      cursor: pointer;\n",
              "      display: none;\n",
              "      fill: #1967D2;\n",
              "      height: 32px;\n",
              "      padding: 0 0 0 0;\n",
              "      width: 32px;\n",
              "    }\n",
              "\n",
              "    .colab-df-convert:hover {\n",
              "      background-color: #E2EBFA;\n",
              "      box-shadow: 0px 1px 2px rgba(60, 64, 67, 0.3), 0px 1px 3px 1px rgba(60, 64, 67, 0.15);\n",
              "      fill: #174EA6;\n",
              "    }\n",
              "\n",
              "    [theme=dark] .colab-df-convert {\n",
              "      background-color: #3B4455;\n",
              "      fill: #D2E3FC;\n",
              "    }\n",
              "\n",
              "    [theme=dark] .colab-df-convert:hover {\n",
              "      background-color: #434B5C;\n",
              "      box-shadow: 0px 1px 3px 1px rgba(0, 0, 0, 0.15);\n",
              "      filter: drop-shadow(0px 1px 2px rgba(0, 0, 0, 0.3));\n",
              "      fill: #FFFFFF;\n",
              "    }\n",
              "  </style>\n",
              "\n",
              "      <script>\n",
              "        const buttonEl =\n",
              "          document.querySelector('#df-3877d26c-26f8-4771-a636-30fdf62f87f2 button.colab-df-convert');\n",
              "        buttonEl.style.display =\n",
              "          google.colab.kernel.accessAllowed ? 'block' : 'none';\n",
              "\n",
              "        async function convertToInteractive(key) {\n",
              "          const element = document.querySelector('#df-3877d26c-26f8-4771-a636-30fdf62f87f2');\n",
              "          const dataTable =\n",
              "            await google.colab.kernel.invokeFunction('convertToInteractive',\n",
              "                                                     [key], {});\n",
              "          if (!dataTable) return;\n",
              "\n",
              "          const docLinkHtml = 'Like what you see? Visit the ' +\n",
              "            '<a target=\"_blank\" href=https://colab.research.google.com/notebooks/data_table.ipynb>data table notebook</a>'\n",
              "            + ' to learn more about interactive tables.';\n",
              "          element.innerHTML = '';\n",
              "          dataTable['output_type'] = 'display_data';\n",
              "          await google.colab.output.renderOutput(dataTable, element);\n",
              "          const docLink = document.createElement('div');\n",
              "          docLink.innerHTML = docLinkHtml;\n",
              "          element.appendChild(docLink);\n",
              "        }\n",
              "      </script>\n",
              "    </div>\n",
              "  </div>\n",
              "  "
            ]
          },
          "metadata": {},
          "execution_count": 159
        }
      ]
    },
    {
      "cell_type": "markdown",
      "source": [
        "# **next page  51-100**"
      ],
      "metadata": {
        "id": "lCklkU46-sz1"
      }
    },
    {
      "cell_type": "code",
      "source": [
        "url = \"https://www.imdb.com/search/title/?groups=top_250&sort=user_rating,desc&start=51&ref_=adv_prv\" # Enter the API URL\n",
        "page=requests.get(url)"
      ],
      "metadata": {
        "id": "X5VEi8Mt-v8s"
      },
      "execution_count": 52,
      "outputs": []
    },
    {
      "cell_type": "code",
      "source": [
        "print(page)"
      ],
      "metadata": {
        "colab": {
          "base_uri": "https://localhost:8080/"
        },
        "id": "DJQPhMNu_VNZ",
        "outputId": "dfb198f2-2507-4579-9654-da2a4a3f79f1"
      },
      "execution_count": 53,
      "outputs": [
        {
          "output_type": "stream",
          "name": "stdout",
          "text": [
            "<Response [200]>\n"
          ]
        }
      ]
    },
    {
      "cell_type": "code",
      "source": [
        "soup = BeautifulSoup(page.content, \"html.parser\")"
      ],
      "metadata": {
        "id": "-Pofx4Bl_iUn"
      },
      "execution_count": 54,
      "outputs": []
    },
    {
      "cell_type": "code",
      "source": [
        "genre = soup.find_all(\"span\",class_='genre')\n",
        "print(genre)"
      ],
      "metadata": {
        "id": "FgLJ26Vw_mAT"
      },
      "execution_count": null,
      "outputs": []
    },
    {
      "cell_type": "code",
      "source": [
        "rating = soup.find_all(\"span\",class_=\"certificate\")\n",
        "print(rating)"
      ],
      "metadata": {
        "colab": {
          "base_uri": "https://localhost:8080/"
        },
        "id": "Ujga4UW2_xu4",
        "outputId": "e0f28153-e7e2-4af7-8afe-01c1b1db5aa8"
      },
      "execution_count": 56,
      "outputs": [
        {
          "output_type": "stream",
          "name": "stdout",
          "text": [
            "[<span class=\"certificate\">R</span>, <span class=\"certificate\">PG</span>, <span class=\"certificate\">G</span>, <span class=\"certificate\">G</span>, <span class=\"certificate\">PG-13</span>, <span class=\"certificate\">R</span>, <span class=\"certificate\">PG</span>, <span class=\"certificate\">R</span>, <span class=\"certificate\">R</span>, <span class=\"certificate\">PG-13</span>, <span class=\"certificate\">R</span>, <span class=\"certificate\">R</span>, <span class=\"certificate\">PG-13</span>, <span class=\"certificate\">R</span>, <span class=\"certificate\">R</span>, <span class=\"certificate\">PG</span>, <span class=\"certificate\">R</span>, <span class=\"certificate\">R</span>, <span class=\"certificate\">Not Rated</span>, <span class=\"certificate\">PG-13</span>, <span class=\"certificate\">PG</span>, <span class=\"certificate\">PG</span>, <span class=\"certificate\">PG-13</span>, <span class=\"certificate\">G</span>, <span class=\"certificate\">R</span>, <span class=\"certificate\">R</span>, <span class=\"certificate\">PG-13</span>, <span class=\"certificate\">PG</span>, <span class=\"certificate\">R</span>, <span class=\"certificate\">Approved</span>, <span class=\"certificate\">Passed</span>, <span class=\"certificate\">Approved</span>, <span class=\"certificate\">G</span>, <span class=\"certificate\">Not Rated</span>, <span class=\"certificate\">PG-13</span>, <span class=\"certificate\">R</span>, <span class=\"certificate\">R</span>, <span class=\"certificate\">R</span>, <span class=\"certificate\">R</span>, <span class=\"certificate\">R</span>, <span class=\"certificate\">R</span>, <span class=\"certificate\">PG</span>, <span class=\"certificate\">R</span>, <span class=\"certificate\">R</span>, <span class=\"certificate\">R</span>, <span class=\"certificate\">G</span>, <span class=\"certificate\">R</span>, <span class=\"certificate\">R</span>, <span class=\"certificate\">G</span>, <span class=\"certificate\">PG</span>]\n"
          ]
        }
      ]
    },
    {
      "cell_type": "code",
      "source": [
        "year = soup.find_all(\"span\",class_=\"lister-item-year text-muted unbold\")\n",
        "print(year)"
      ],
      "metadata": {
        "colab": {
          "base_uri": "https://localhost:8080/"
        },
        "id": "NVPuJfuu_4LV",
        "outputId": "1ea86c1d-fabb-461d-9d29-a9c71e292f8e"
      },
      "execution_count": 57,
      "outputs": [
        {
          "output_type": "stream",
          "name": "stdout",
          "text": [
            "[<span class=\"lister-item-year text-muted unbold\">(1988)</span>, <span class=\"lister-item-year text-muted unbold\">(1954)</span>, <span class=\"lister-item-year text-muted unbold\">(1936)</span>, <span class=\"lister-item-year text-muted unbold\">(1931)</span>, <span class=\"lister-item-year text-muted unbold\">(2019)</span>, <span class=\"lister-item-year text-muted unbold\">(I) (2019)</span>, <span class=\"lister-item-year text-muted unbold\">(1981)</span>, <span class=\"lister-item-year text-muted unbold\">(2012)</span>, <span class=\"lister-item-year text-muted unbold\">(1999)</span>, <span class=\"lister-item-year text-muted unbold\">(2012)</span>, <span class=\"lister-item-year text-muted unbold\">(2000)</span>, <span class=\"lister-item-year text-muted unbold\">(1986)</span>, <span class=\"lister-item-year text-muted unbold\">(2018)</span>, <span class=\"lister-item-year text-muted unbold\">(2003)</span>, <span class=\"lister-item-year text-muted unbold\">(1980)</span>, <span class=\"lister-item-year text-muted unbold\">(2018)</span>, <span class=\"lister-item-year text-muted unbold\">(1984)</span>, <span class=\"lister-item-year text-muted unbold\">(1995)</span>, <span class=\"lister-item-year text-muted unbold\">(1985)</span>, <span class=\"lister-item-year text-muted unbold\">(2020)</span>, <span class=\"lister-item-year text-muted unbold\">(I) (2017)</span>, <span class=\"lister-item-year text-muted unbold\">(2016)</span>, <span class=\"lister-item-year text-muted unbold\">(2009)</span>, <span class=\"lister-item-year text-muted unbold\">(2008)</span>, <span class=\"lister-item-year text-muted unbold\">(2006)</span>, <span class=\"lister-item-year text-muted unbold\">(2018)</span>, <span class=\"lister-item-year text-muted unbold\">(1997)</span>, <span class=\"lister-item-year text-muted unbold\">(1964)</span>, <span class=\"lister-item-year text-muted unbold\">(1981)</span>, <span class=\"lister-item-year text-muted unbold\">(1957)</span>, <span class=\"lister-item-year text-muted unbold\">(1950)</span>, <span class=\"lister-item-year text-muted unbold\">(1957)</span>, <span class=\"lister-item-year text-muted unbold\">(1940)</span>, <span class=\"lister-item-year text-muted unbold\">(1963)</span>, <span class=\"lister-item-year text-muted unbold\">(2022)</span>, <span class=\"lister-item-year text-muted unbold\">(1997)</span>, <span class=\"lister-item-year text-muted unbold\">(1995)</span>, <span class=\"lister-item-year text-muted unbold\">(2009)</span>, <span class=\"lister-item-year text-muted unbold\">(2000)</span>, <span class=\"lister-item-year text-muted unbold\">(1992)</span>, <span class=\"lister-item-year text-muted unbold\">(2004)</span>, <span class=\"lister-item-year text-muted unbold\">(1973)</span>, <span class=\"lister-item-year text-muted unbold\">(1983)</span>, <span class=\"lister-item-year text-muted unbold\">(1971)</span>, <span class=\"lister-item-year text-muted unbold\">(2012)</span>, <span class=\"lister-item-year text-muted unbold\">(1968)</span>, <span class=\"lister-item-year text-muted unbold\">(1987)</span>, <span class=\"lister-item-year text-muted unbold\">(1984)</span>, <span class=\"lister-item-year text-muted unbold\">(1995)</span>, <span class=\"lister-item-year text-muted unbold\">(1983)</span>]\n"
          ]
        }
      ]
    },
    {
      "cell_type": "code",
      "source": [
        "title = soup.find_all(\"h3\",class_=\"lister-item-header\")\n",
        "print(title)"
      ],
      "metadata": {
        "id": "6SJhBq8G_9iF"
      },
      "execution_count": null,
      "outputs": []
    },
    {
      "cell_type": "code",
      "source": [
        "gross = soup.find_all(\"p\", class_=\"sort-num_votes-visible\")\n",
        "print(gross)"
      ],
      "metadata": {
        "id": "0jxa-wZy_9iG"
      },
      "execution_count": null,
      "outputs": []
    },
    {
      "cell_type": "code",
      "source": [
        "run_time = soup.find_all(\"span\",class_=\"runtime\")"
      ],
      "metadata": {
        "id": "hjeoNzzWacCv"
      },
      "execution_count": 146,
      "outputs": []
    },
    {
      "cell_type": "code",
      "source": [
        "user_rating = soup.find_all(\"div\", class_=\"inline-block ratings-imdb-rating\")"
      ],
      "metadata": {
        "id": "6X47SJw4lcbh"
      },
      "execution_count": 149,
      "outputs": []
    },
    {
      "cell_type": "code",
      "source": [
        "num_votes = [i.text.strip() for i in gross]\n",
        "print(movie_gross[:0])\n",
        "print(movie_gross[1].split('\\n'))"
      ],
      "metadata": {
        "colab": {
          "base_uri": "https://localhost:8080/"
        },
        "outputId": "ebbda423-0443-452b-b82e-ec6a40cc813f",
        "id": "vOopy3p1lYPT"
      },
      "execution_count": 148,
      "outputs": [
        {
          "output_type": "stream",
          "name": "stdout",
          "text": [
            "[]\n",
            "['Votes:', '1,127,706', '| Gross:', '$70.51M', '| Top 250:', '#158']\n"
          ]
        }
      ]
    },
    {
      "cell_type": "code",
      "source": [
        "movie_gross = [i.text.strip() for i in gross]\n",
        "print(movie_gross[:0])\n",
        "print(movie_gross[1].split('\\n'))"
      ],
      "metadata": {
        "colab": {
          "base_uri": "https://localhost:8080/"
        },
        "outputId": "8dc3f842-12fd-4806-ee84-13c6a8716ce5",
        "id": "FFqFtBEXAFqf"
      },
      "execution_count": 61,
      "outputs": [
        {
          "output_type": "stream",
          "name": "stdout",
          "text": [
            "[]\n",
            "['Votes:', '495,239', '| Gross:', '$36.76M', '| Top 250:', '#49']\n"
          ]
        }
      ]
    },
    {
      "cell_type": "code",
      "source": [
        "movie_titles = [i.text.strip() for i in title]\n",
        "print(movie_titles[:5])\n",
        "print(movie_titles[0].split('\\n'))"
      ],
      "metadata": {
        "colab": {
          "base_uri": "https://localhost:8080/"
        },
        "outputId": "76c3ad87-05cb-46a4-cebd-fc544a8726a5",
        "id": "7GCeaQ1nAFqg"
      },
      "execution_count": 160,
      "outputs": [
        {
          "output_type": "stream",
          "name": "stdout",
          "text": [
            "['151.\\nL.A. Confidential\\n(1997)', '152.\\nV for Vendetta\\n(2005)', '153.\\nUnforgiven\\n(1992)', '154.\\nDownfall\\n(2004)', '155.\\nSome Like It Hot\\n(1959)']\n",
            "['151.', 'L.A. Confidential', '(1997)']\n"
          ]
        }
      ]
    },
    {
      "cell_type": "code",
      "source": [
        "df2 = pd.DataFrame({'rating':[i.text.strip() for i in rating],\n",
        "              'genre': [i.text.strip() for i in genre],\n",
        "              'year':  [i.text.strip('()') for i in year],\n",
        "              'title': [i.split('\\n')[1] for i in movie_titles],\n",
        "              'gross': [i.split('\\n')[3] for i in movie_gross],\n",
        "              'imdb_ranking': [i.split('\\n')[-1] for i in movie_gross],\n",
        "              'runtime': [i.text.strip() for i in run_time],\n",
        "              'user_rating': [i.text.strip() for i in user_rating],\n",
        "              'num_votes': [i.split('\\n')[1] for i in movie_gross]})"
      ],
      "metadata": {
        "id": "R3pGU0MUAFqg"
      },
      "execution_count": 161,
      "outputs": []
    },
    {
      "cell_type": "code",
      "source": [
        "df2.head()"
      ],
      "metadata": {
        "colab": {
          "base_uri": "https://localhost:8080/",
          "height": 206
        },
        "id": "FV3FbniUDcCO",
        "outputId": "e9bd3dcc-459d-443c-ad60-69629208c477"
      },
      "execution_count": 162,
      "outputs": [
        {
          "output_type": "execute_result",
          "data": {
            "text/plain": [
              "   rating                      genre  year              title     gross  \\\n",
              "0       R      Crime, Drama, Mystery  1997  L.A. Confidential   $64.62M   \n",
              "1       R      Action, Drama, Sci-Fi  2005     V for Vendetta   $70.51M   \n",
              "2       R             Drama, Western  1992         Unforgiven  $101.16M   \n",
              "3       R  Biography, Drama, History  2004           Downfall    $5.51M   \n",
              "4  Passed     Comedy, Music, Romance  1959   Some Like It Hot   $25.00M   \n",
              "\n",
              "  imdb_ranking  runtime user_rating  num_votes  \n",
              "0         #117  138 min         8.2    586,763  \n",
              "1         #158  132 min         8.2  1,127,706  \n",
              "2         #139  130 min         8.2    415,368  \n",
              "3         #124  156 min         8.2    358,555  \n",
              "4         #129  121 min         8.2    270,048  "
            ],
            "text/html": [
              "\n",
              "  <div id=\"df-6b4007a8-0318-4631-bfe2-866aa96d8cd5\">\n",
              "    <div class=\"colab-df-container\">\n",
              "      <div>\n",
              "<style scoped>\n",
              "    .dataframe tbody tr th:only-of-type {\n",
              "        vertical-align: middle;\n",
              "    }\n",
              "\n",
              "    .dataframe tbody tr th {\n",
              "        vertical-align: top;\n",
              "    }\n",
              "\n",
              "    .dataframe thead th {\n",
              "        text-align: right;\n",
              "    }\n",
              "</style>\n",
              "<table border=\"1\" class=\"dataframe\">\n",
              "  <thead>\n",
              "    <tr style=\"text-align: right;\">\n",
              "      <th></th>\n",
              "      <th>rating</th>\n",
              "      <th>genre</th>\n",
              "      <th>year</th>\n",
              "      <th>title</th>\n",
              "      <th>gross</th>\n",
              "      <th>imdb_ranking</th>\n",
              "      <th>runtime</th>\n",
              "      <th>user_rating</th>\n",
              "      <th>num_votes</th>\n",
              "    </tr>\n",
              "  </thead>\n",
              "  <tbody>\n",
              "    <tr>\n",
              "      <th>0</th>\n",
              "      <td>R</td>\n",
              "      <td>Crime, Drama, Mystery</td>\n",
              "      <td>1997</td>\n",
              "      <td>L.A. Confidential</td>\n",
              "      <td>$64.62M</td>\n",
              "      <td>#117</td>\n",
              "      <td>138 min</td>\n",
              "      <td>8.2</td>\n",
              "      <td>586,763</td>\n",
              "    </tr>\n",
              "    <tr>\n",
              "      <th>1</th>\n",
              "      <td>R</td>\n",
              "      <td>Action, Drama, Sci-Fi</td>\n",
              "      <td>2005</td>\n",
              "      <td>V for Vendetta</td>\n",
              "      <td>$70.51M</td>\n",
              "      <td>#158</td>\n",
              "      <td>132 min</td>\n",
              "      <td>8.2</td>\n",
              "      <td>1,127,706</td>\n",
              "    </tr>\n",
              "    <tr>\n",
              "      <th>2</th>\n",
              "      <td>R</td>\n",
              "      <td>Drama, Western</td>\n",
              "      <td>1992</td>\n",
              "      <td>Unforgiven</td>\n",
              "      <td>$101.16M</td>\n",
              "      <td>#139</td>\n",
              "      <td>130 min</td>\n",
              "      <td>8.2</td>\n",
              "      <td>415,368</td>\n",
              "    </tr>\n",
              "    <tr>\n",
              "      <th>3</th>\n",
              "      <td>R</td>\n",
              "      <td>Biography, Drama, History</td>\n",
              "      <td>2004</td>\n",
              "      <td>Downfall</td>\n",
              "      <td>$5.51M</td>\n",
              "      <td>#124</td>\n",
              "      <td>156 min</td>\n",
              "      <td>8.2</td>\n",
              "      <td>358,555</td>\n",
              "    </tr>\n",
              "    <tr>\n",
              "      <th>4</th>\n",
              "      <td>Passed</td>\n",
              "      <td>Comedy, Music, Romance</td>\n",
              "      <td>1959</td>\n",
              "      <td>Some Like It Hot</td>\n",
              "      <td>$25.00M</td>\n",
              "      <td>#129</td>\n",
              "      <td>121 min</td>\n",
              "      <td>8.2</td>\n",
              "      <td>270,048</td>\n",
              "    </tr>\n",
              "  </tbody>\n",
              "</table>\n",
              "</div>\n",
              "      <button class=\"colab-df-convert\" onclick=\"convertToInteractive('df-6b4007a8-0318-4631-bfe2-866aa96d8cd5')\"\n",
              "              title=\"Convert this dataframe to an interactive table.\"\n",
              "              style=\"display:none;\">\n",
              "        \n",
              "  <svg xmlns=\"http://www.w3.org/2000/svg\" height=\"24px\"viewBox=\"0 0 24 24\"\n",
              "       width=\"24px\">\n",
              "    <path d=\"M0 0h24v24H0V0z\" fill=\"none\"/>\n",
              "    <path d=\"M18.56 5.44l.94 2.06.94-2.06 2.06-.94-2.06-.94-.94-2.06-.94 2.06-2.06.94zm-11 1L8.5 8.5l.94-2.06 2.06-.94-2.06-.94L8.5 2.5l-.94 2.06-2.06.94zm10 10l.94 2.06.94-2.06 2.06-.94-2.06-.94-.94-2.06-.94 2.06-2.06.94z\"/><path d=\"M17.41 7.96l-1.37-1.37c-.4-.4-.92-.59-1.43-.59-.52 0-1.04.2-1.43.59L10.3 9.45l-7.72 7.72c-.78.78-.78 2.05 0 2.83L4 21.41c.39.39.9.59 1.41.59.51 0 1.02-.2 1.41-.59l7.78-7.78 2.81-2.81c.8-.78.8-2.07 0-2.86zM5.41 20L4 18.59l7.72-7.72 1.47 1.35L5.41 20z\"/>\n",
              "  </svg>\n",
              "      </button>\n",
              "      \n",
              "  <style>\n",
              "    .colab-df-container {\n",
              "      display:flex;\n",
              "      flex-wrap:wrap;\n",
              "      gap: 12px;\n",
              "    }\n",
              "\n",
              "    .colab-df-convert {\n",
              "      background-color: #E8F0FE;\n",
              "      border: none;\n",
              "      border-radius: 50%;\n",
              "      cursor: pointer;\n",
              "      display: none;\n",
              "      fill: #1967D2;\n",
              "      height: 32px;\n",
              "      padding: 0 0 0 0;\n",
              "      width: 32px;\n",
              "    }\n",
              "\n",
              "    .colab-df-convert:hover {\n",
              "      background-color: #E2EBFA;\n",
              "      box-shadow: 0px 1px 2px rgba(60, 64, 67, 0.3), 0px 1px 3px 1px rgba(60, 64, 67, 0.15);\n",
              "      fill: #174EA6;\n",
              "    }\n",
              "\n",
              "    [theme=dark] .colab-df-convert {\n",
              "      background-color: #3B4455;\n",
              "      fill: #D2E3FC;\n",
              "    }\n",
              "\n",
              "    [theme=dark] .colab-df-convert:hover {\n",
              "      background-color: #434B5C;\n",
              "      box-shadow: 0px 1px 3px 1px rgba(0, 0, 0, 0.15);\n",
              "      filter: drop-shadow(0px 1px 2px rgba(0, 0, 0, 0.3));\n",
              "      fill: #FFFFFF;\n",
              "    }\n",
              "  </style>\n",
              "\n",
              "      <script>\n",
              "        const buttonEl =\n",
              "          document.querySelector('#df-6b4007a8-0318-4631-bfe2-866aa96d8cd5 button.colab-df-convert');\n",
              "        buttonEl.style.display =\n",
              "          google.colab.kernel.accessAllowed ? 'block' : 'none';\n",
              "\n",
              "        async function convertToInteractive(key) {\n",
              "          const element = document.querySelector('#df-6b4007a8-0318-4631-bfe2-866aa96d8cd5');\n",
              "          const dataTable =\n",
              "            await google.colab.kernel.invokeFunction('convertToInteractive',\n",
              "                                                     [key], {});\n",
              "          if (!dataTable) return;\n",
              "\n",
              "          const docLinkHtml = 'Like what you see? Visit the ' +\n",
              "            '<a target=\"_blank\" href=https://colab.research.google.com/notebooks/data_table.ipynb>data table notebook</a>'\n",
              "            + ' to learn more about interactive tables.';\n",
              "          element.innerHTML = '';\n",
              "          dataTable['output_type'] = 'display_data';\n",
              "          await google.colab.output.renderOutput(dataTable, element);\n",
              "          const docLink = document.createElement('div');\n",
              "          docLink.innerHTML = docLinkHtml;\n",
              "          element.appendChild(docLink);\n",
              "        }\n",
              "      </script>\n",
              "    </div>\n",
              "  </div>\n",
              "  "
            ]
          },
          "metadata": {},
          "execution_count": 162
        }
      ]
    },
    {
      "cell_type": "markdown",
      "source": [
        "# **Pages 100-150**\n",
        "\n",
        "---\n",
        "\n"
      ],
      "metadata": {
        "id": "FteshzaeANuh"
      }
    },
    {
      "cell_type": "code",
      "source": [
        "url = \"https://www.imdb.com/search/title/?groups=top_250&sort=user_rating,desc&start=101&ref_=adv_nxt\" # Enter the API URL\n",
        "page=requests.get(url)"
      ],
      "metadata": {
        "id": "NAGCxZJ4AiWP"
      },
      "execution_count": 65,
      "outputs": []
    },
    {
      "cell_type": "code",
      "source": [
        "print(page)"
      ],
      "metadata": {
        "colab": {
          "base_uri": "https://localhost:8080/"
        },
        "outputId": "3b004cda-0435-45e6-8cce-2c065441130e",
        "id": "pYEusjqVAiWP"
      },
      "execution_count": 66,
      "outputs": [
        {
          "output_type": "stream",
          "name": "stdout",
          "text": [
            "<Response [200]>\n"
          ]
        }
      ]
    },
    {
      "cell_type": "code",
      "source": [
        "soup = BeautifulSoup(page.content, \"html.parser\")"
      ],
      "metadata": {
        "id": "fto3xj_CAiWQ"
      },
      "execution_count": 67,
      "outputs": []
    },
    {
      "cell_type": "code",
      "source": [
        "genre = soup.find_all(\"span\",class_='genre')\n",
        "print(genre)"
      ],
      "metadata": {
        "id": "yzo5FjQIAiWQ"
      },
      "execution_count": null,
      "outputs": []
    },
    {
      "cell_type": "code",
      "source": [
        "rating = soup.find_all(\"span\",class_=\"certificate\")\n",
        "print(rating)"
      ],
      "metadata": {
        "colab": {
          "base_uri": "https://localhost:8080/"
        },
        "outputId": "98fd498d-e45c-4c40-d071-fde98d6555fa",
        "id": "8Q-d9Vv2AiWQ"
      },
      "execution_count": 69,
      "outputs": [
        {
          "output_type": "stream",
          "name": "stdout",
          "text": [
            "[<span class=\"certificate\">R</span>, <span class=\"certificate\">R</span>, <span class=\"certificate\">PG</span>, <span class=\"certificate\">Approved</span>, <span class=\"certificate\">PG</span>, <span class=\"certificate\">G</span>, <span class=\"certificate\">PG</span>, <span class=\"certificate\">Approved</span>, <span class=\"certificate\">Not Rated</span>, <span class=\"certificate\">G</span>, <span class=\"certificate\">Approved</span>, <span class=\"certificate\">Approved</span>, <span class=\"certificate\">Approved</span>, <span class=\"certificate\">Not Rated</span>, <span class=\"certificate\">PG-13</span>, <span class=\"certificate\">Passed</span>, <span class=\"certificate\">Not Rated</span>, <span class=\"certificate\">Passed</span>, <span class=\"certificate\">PG</span>, <span class=\"certificate\">Not Rated</span>, <span class=\"certificate\">Passed</span>, <span class=\"certificate\">Not Rated</span>, <span class=\"certificate\">PG-13</span>, <span class=\"certificate\">R</span>, <span class=\"certificate\">PG-13</span>, <span class=\"certificate\">PG-13</span>, <span class=\"certificate\">R</span>, <span class=\"certificate\">R</span>, <span class=\"certificate\">R</span>, <span class=\"certificate\">R</span>, <span class=\"certificate\">PG-13</span>, <span class=\"certificate\">PG-13</span>, <span class=\"certificate\">R</span>, <span class=\"certificate\">PG-13</span>, <span class=\"certificate\">PG</span>, <span class=\"certificate\">PG-13</span>, <span class=\"certificate\">R</span>, <span class=\"certificate\">R</span>, <span class=\"certificate\">R</span>, <span class=\"certificate\">R</span>, <span class=\"certificate\">G</span>, <span class=\"certificate\">R</span>, <span class=\"certificate\">PG</span>, <span class=\"certificate\">R</span>, <span class=\"certificate\">PG</span>, <span class=\"certificate\">R</span>, <span class=\"certificate\">R</span>, <span class=\"certificate\">PG-13</span>, <span class=\"certificate\">PG-13</span>, <span class=\"certificate\">Passed</span>]\n"
          ]
        }
      ]
    },
    {
      "cell_type": "code",
      "source": [
        "year = soup.find_all(\"span\",class_=\"lister-item-year text-muted unbold\")\n",
        "print(year)"
      ],
      "metadata": {
        "colab": {
          "base_uri": "https://localhost:8080/"
        },
        "outputId": "dd4cc308-d508-4928-8167-b5117460818e",
        "id": "43M5-PORAiWQ"
      },
      "execution_count": 70,
      "outputs": [
        {
          "output_type": "stream",
          "name": "stdout",
          "text": [
            "[<span class=\"lister-item-year text-muted unbold\">(2001)</span>, <span class=\"lister-item-year text-muted unbold\">(2010)</span>, <span class=\"lister-item-year text-muted unbold\">(2009)</span>, <span class=\"lister-item-year text-muted unbold\">(1962)</span>, <span class=\"lister-item-year text-muted unbold\">(1941)</span>, <span class=\"lister-item-year text-muted unbold\">(2010)</span>, <span class=\"lister-item-year text-muted unbold\">(1958)</span>, <span class=\"lister-item-year text-muted unbold\">(1959)</span>, <span class=\"lister-item-year text-muted unbold\">(1927)</span>, <span class=\"lister-item-year text-muted unbold\">(1952)</span>, <span class=\"lister-item-year text-muted unbold\">(1962)</span>, <span class=\"lister-item-year text-muted unbold\">(1961)</span>, <span class=\"lister-item-year text-muted unbold\">(1960)</span>, <span class=\"lister-item-year text-muted unbold\">(2016)</span>, <span class=\"lister-item-year text-muted unbold\">(2011)</span>, <span class=\"lister-item-year text-muted unbold\">(1931)</span>, <span class=\"lister-item-year text-muted unbold\">(1952)</span>, <span class=\"lister-item-year text-muted unbold\">(1944)</span>, <span class=\"lister-item-year text-muted unbold\">(2007)</span>, <span class=\"lister-item-year text-muted unbold\">(1948)</span>, <span class=\"lister-item-year text-muted unbold\">(1921)</span>, <span class=\"lister-item-year text-muted unbold\">(1955)</span>, <span class=\"lister-item-year text-muted unbold\">(2021)</span>, <span class=\"lister-item-year text-muted unbold\">(2013)</span>, <span class=\"lister-item-year text-muted unbold\">(1993)</span>, <span class=\"lister-item-year text-muted unbold\">(2018)</span>, <span class=\"lister-item-year text-muted unbold\">(2010)</span>, <span class=\"lister-item-year text-muted unbold\">(2007)</span>, <span class=\"lister-item-year text-muted unbold\">(1976)</span>, <span class=\"lister-item-year text-muted unbold\">(2019)</span>, <span class=\"lister-item-year text-muted unbold\">(I) (2020)</span>, <span class=\"lister-item-year text-muted unbold\">(1989)</span>, <span class=\"lister-item-year text-muted unbold\">(2000)</span>, <span class=\"lister-item-year text-muted unbold\">(2005)</span>, <span class=\"lister-item-year text-muted unbold\">(1998)</span>, <span class=\"lister-item-year text-muted unbold\">(1999)</span>, <span class=\"lister-item-year text-muted unbold\">(1988)</span>, <span class=\"lister-item-year text-muted unbold\">(2003)</span>, <span class=\"lister-item-year text-muted unbold\">(2007)</span>, <span class=\"lister-item-year text-muted unbold\">(1982)</span>, <span class=\"lister-item-year text-muted unbold\">(2003)</span>, <span class=\"lister-item-year text-muted unbold\">(1995)</span>, <span class=\"lister-item-year text-muted unbold\">(I) (2015)</span>, <span class=\"lister-item-year text-muted unbold\">(1974)</span>, <span class=\"lister-item-year text-muted unbold\">(2004)</span>, <span class=\"lister-item-year text-muted unbold\">(2006)</span>, <span class=\"lister-item-year text-muted unbold\">(1998)</span>, <span class=\"lister-item-year text-muted unbold\">(2001)</span>, <span class=\"lister-item-year text-muted unbold\">(2011)</span>, <span class=\"lister-item-year text-muted unbold\">(1939)</span>]\n"
          ]
        }
      ]
    },
    {
      "cell_type": "code",
      "source": [
        "title = soup.find_all(\"h3\",class_=\"lister-item-header\")\n",
        "print(title)"
      ],
      "metadata": {
        "id": "yE7Lw_RMAiWQ"
      },
      "execution_count": null,
      "outputs": []
    },
    {
      "cell_type": "code",
      "source": [
        "gross = soup.find_all(\"p\", class_=\"sort-num_votes-visible\")\n",
        "print(gross)"
      ],
      "metadata": {
        "id": "9fp4aXU2AiWQ"
      },
      "execution_count": null,
      "outputs": []
    },
    {
      "cell_type": "code",
      "source": [
        "user_rating = soup.find_all(\"div\",class_=\"inline-block ratings-imdb-rating\")\n",
        "print(user_rating)"
      ],
      "metadata": {
        "id": "ve7gu8U3BLKU"
      },
      "execution_count": null,
      "outputs": []
    },
    {
      "cell_type": "code",
      "source": [
        "run_time = soup.find_all(\"span\",class_=\"runtime\")"
      ],
      "metadata": {
        "id": "KKCDH-jj_m6U"
      },
      "execution_count": 143,
      "outputs": []
    },
    {
      "cell_type": "code",
      "source": [
        "user_rating = soup.find_all(\"div\", class_=\"inline-block ratings-imdb-rating\")"
      ],
      "metadata": {
        "id": "JBuVe1CllSP6"
      },
      "execution_count": 144,
      "outputs": []
    },
    {
      "cell_type": "code",
      "source": [
        "num_votes = [i.text.strip() for i in gross]\n",
        "print(movie_gross[:0])\n",
        "print(movie_gross[1].split('\\n'))"
      ],
      "metadata": {
        "colab": {
          "base_uri": "https://localhost:8080/"
        },
        "outputId": "88b7f7f0-fa9c-4045-bed2-3a9345c96dbf",
        "id": "FVYvISDzlSP7"
      },
      "execution_count": 145,
      "outputs": [
        {
          "output_type": "stream",
          "name": "stdout",
          "text": [
            "[]\n",
            "['Votes:', '1,127,706', '| Gross:', '$70.51M', '| Top 250:', '#158']\n"
          ]
        }
      ]
    },
    {
      "cell_type": "code",
      "source": [
        "movie_gross = [i.text.strip() for i in gross]\n",
        "print(movie_gross[:0])\n",
        "print(movie_gross[1].split('\\n'))"
      ],
      "metadata": {
        "colab": {
          "base_uri": "https://localhost:8080/"
        },
        "outputId": "a7bc57c3-e436-4ef4-b263-2ca55ba65ab1",
        "id": "XQWPpP34AiWQ"
      },
      "execution_count": 75,
      "outputs": [
        {
          "output_type": "stream",
          "name": "stdout",
          "text": [
            "[]\n",
            "['Votes:', '180,384', '| Gross:', '$6.86M', '| Top 250:', '#109']\n"
          ]
        }
      ]
    },
    {
      "cell_type": "code",
      "source": [
        "movie_titles = [i.text.strip() for i in title]\n",
        "print(movie_titles[:5])\n",
        "print(movie_titles[0].split('\\n'))"
      ],
      "metadata": {
        "colab": {
          "base_uri": "https://localhost:8080/"
        },
        "outputId": "44d93889-2c35-4019-e415-fac1f41b9e9d",
        "id": "zN9cfpvLAiWQ"
      },
      "execution_count": 163,
      "outputs": [
        {
          "output_type": "stream",
          "name": "stdout",
          "text": [
            "['151.\\nL.A. Confidential\\n(1997)', '152.\\nV for Vendetta\\n(2005)', '153.\\nUnforgiven\\n(1992)', '154.\\nDownfall\\n(2004)', '155.\\nSome Like It Hot\\n(1959)']\n",
            "['151.', 'L.A. Confidential', '(1997)']\n"
          ]
        }
      ]
    },
    {
      "cell_type": "code",
      "source": [
        " df3 = pd.DataFrame({'rating':[i.text.strip() for i in rating],\n",
        "              'genre': [i.text.strip() for i in genre],\n",
        "              'year':  [i.text.strip('()') for i in year],\n",
        "              'title': [i.split('\\n')[1] for i in movie_titles],\n",
        "              'gross': [i.split('\\n')[3] for i in movie_gross],\n",
        "              'imdb_ranking': [i.split('\\n')[-1] for i in movie_gross],\n",
        "              'runtime': [i.text.strip() for i in run_time],\n",
        "              'user_rating': [i.text.strip() for i in user_rating],\n",
        "              'num_votes': [i.split('\\n')[1] for i in movie_gross]})"
      ],
      "metadata": {
        "id": "-bUQOOFWAiWQ"
      },
      "execution_count": 164,
      "outputs": []
    },
    {
      "cell_type": "markdown",
      "source": [
        "# **pages 150-200**\n",
        "\n",
        "---\n",
        "\n"
      ],
      "metadata": {
        "id": "oxJ5n5-nEwo_"
      }
    },
    {
      "cell_type": "code",
      "source": [
        "url = \"https://www.imdb.com/search/title/?groups=top_250&sort=user_rating,desc&start=151&ref_=adv_nxt\" # Enter the API URL\n",
        "page=requests.get(url)"
      ],
      "metadata": {
        "id": "7kjrLaUpFRvX"
      },
      "execution_count": 78,
      "outputs": []
    },
    {
      "cell_type": "code",
      "source": [
        "print(page)"
      ],
      "metadata": {
        "colab": {
          "base_uri": "https://localhost:8080/"
        },
        "outputId": "a05ee544-920b-4643-dc80-67d7c7d61f9b",
        "id": "2ia_VNaTFRvY"
      },
      "execution_count": 79,
      "outputs": [
        {
          "output_type": "stream",
          "name": "stdout",
          "text": [
            "<Response [200]>\n"
          ]
        }
      ]
    },
    {
      "cell_type": "code",
      "source": [
        "soup = BeautifulSoup(page.content, \"html.parser\")"
      ],
      "metadata": {
        "id": "dUCWvBllFRvZ"
      },
      "execution_count": 80,
      "outputs": []
    },
    {
      "cell_type": "code",
      "source": [
        "genre = soup.find_all(\"span\",class_='genre')\n",
        "print(genre)"
      ],
      "metadata": {
        "id": "0wwvbgEyFRva"
      },
      "execution_count": null,
      "outputs": []
    },
    {
      "cell_type": "code",
      "source": [
        "rating = soup.find_all(\"span\",class_=\"certificate\")\n",
        "print(rating)"
      ],
      "metadata": {
        "colab": {
          "base_uri": "https://localhost:8080/"
        },
        "outputId": "3ad6a543-9dff-4a9a-be92-61d0be27f858",
        "id": "K4jxom40FRva"
      },
      "execution_count": 82,
      "outputs": [
        {
          "output_type": "stream",
          "name": "stdout",
          "text": [
            "[<span class=\"certificate\">R</span>, <span class=\"certificate\">R</span>, <span class=\"certificate\">R</span>, <span class=\"certificate\">R</span>, <span class=\"certificate\">Passed</span>, <span class=\"certificate\">R</span>, <span class=\"certificate\">PG</span>, <span class=\"certificate\">R</span>, <span class=\"certificate\">PG</span>, <span class=\"certificate\">Approved</span>, <span class=\"certificate\">PG</span>, <span class=\"certificate\">R</span>, <span class=\"certificate\">R</span>, <span class=\"certificate\">PG</span>, <span class=\"certificate\">Not Rated</span>, <span class=\"certificate\">PG</span>, <span class=\"certificate\">Passed</span>, <span class=\"certificate\">Passed</span>, <span class=\"certificate\">Not Rated</span>, <span class=\"certificate\">Not Rated</span>, <span class=\"certificate\">PG</span>, <span class=\"certificate\">Passed</span>, <span class=\"certificate\">Passed</span>, <span class=\"certificate\">G</span>, <span class=\"certificate\">Not Rated</span>, <span class=\"certificate\">Passed</span>, <span class=\"certificate\">Not Rated</span>, <span class=\"certificate\">R</span>, <span class=\"certificate\">R</span>, <span class=\"certificate\">R</span>, <span class=\"certificate\">R</span>, <span class=\"certificate\">PG</span>, <span class=\"certificate\">R</span>, <span class=\"certificate\">R</span>, <span class=\"certificate\">PG-13</span>, <span class=\"certificate\">PG-13</span>, <span class=\"certificate\">R</span>, <span class=\"certificate\">R</span>, <span class=\"certificate\">PG-13</span>, <span class=\"certificate\">Not Rated</span>, <span class=\"certificate\">13+</span>, <span class=\"certificate\">R</span>, <span class=\"certificate\">R</span>, <span class=\"certificate\">PG-13</span>, <span class=\"certificate\">G</span>, <span class=\"certificate\">R</span>, <span class=\"certificate\">G</span>, <span class=\"certificate\">PG</span>, <span class=\"certificate\">PG-13</span>, <span class=\"certificate\">R</span>]\n"
          ]
        }
      ]
    },
    {
      "cell_type": "code",
      "source": [
        "year = soup.find_all(\"span\",class_=\"lister-item-year text-muted unbold\")\n",
        "print(year)"
      ],
      "metadata": {
        "colab": {
          "base_uri": "https://localhost:8080/"
        },
        "outputId": "7c18d131-8513-4cec-c3f5-b20b7708e791",
        "id": "3lcC8wCWFRva"
      },
      "execution_count": 83,
      "outputs": [
        {
          "output_type": "stream",
          "name": "stdout",
          "text": [
            "[<span class=\"lister-item-year text-muted unbold\">(1997)</span>, <span class=\"lister-item-year text-muted unbold\">(2005)</span>, <span class=\"lister-item-year text-muted unbold\">(1992)</span>, <span class=\"lister-item-year text-muted unbold\">(2004)</span>, <span class=\"lister-item-year text-muted unbold\">(1959)</span>, <span class=\"lister-item-year text-muted unbold\">(1980)</span>, <span class=\"lister-item-year text-muted unbold\">(1975)</span>, <span class=\"lister-item-year text-muted unbold\">(2009)</span>, <span class=\"lister-item-year text-muted unbold\">(1980)</span>, <span class=\"lister-item-year text-muted unbold\">(1963)</span>, <span class=\"lister-item-year text-muted unbold\">(2019)</span>, <span class=\"lister-item-year text-muted unbold\">(1965)</span>, <span class=\"lister-item-year text-muted unbold\">(1985)</span>, <span class=\"lister-item-year text-muted unbold\">(1957)</span>, <span class=\"lister-item-year text-muted unbold\">(1950)</span>, <span class=\"lister-item-year text-muted unbold\">(1954)</span>, <span class=\"lister-item-year text-muted unbold\">(1950)</span>, <span class=\"lister-item-year text-muted unbold\">(1948)</span>, <span class=\"lister-item-year text-muted unbold\">(1961)</span>, <span class=\"lister-item-year text-muted unbold\">(1953)</span>, <span class=\"lister-item-year text-muted unbold\">(1997)</span>, <span class=\"lister-item-year text-muted unbold\">(1942)</span>, <span class=\"lister-item-year text-muted unbold\">(1928)</span>, <span class=\"lister-item-year text-muted unbold\">(1975)</span>, <span class=\"lister-item-year text-muted unbold\">(1953)</span>, <span class=\"lister-item-year text-muted unbold\">(1924)</span>, <span class=\"lister-item-year text-muted unbold\">(2005)</span>, <span class=\"lister-item-year text-muted unbold\">(2013)</span>, <span class=\"lister-item-year text-muted unbold\">(2014)</span>, <span class=\"lister-item-year text-muted unbold\">(2014)</span>, <span class=\"lister-item-year text-muted unbold\">(2015)</span>, <span class=\"lister-item-year text-muted unbold\">(1976)</span>, <span class=\"lister-item-year text-muted unbold\">(2016)</span>, <span class=\"lister-item-year text-muted unbold\">(2017)</span>, <span class=\"lister-item-year text-muted unbold\">(2011)</span>, <span class=\"lister-item-year text-muted unbold\">(2003)</span>, <span class=\"lister-item-year text-muted unbold\">(1982)</span>, <span class=\"lister-item-year text-muted unbold\">(2017)</span>, <span class=\"lister-item-year text-muted unbold\">(2019)</span>, <span class=\"lister-item-year text-muted unbold\">(2016)</span>, <span class=\"lister-item-year text-muted unbold\">(1986)</span>, <span class=\"lister-item-year text-muted unbold\">(1998)</span>, <span class=\"lister-item-year text-muted unbold\">(1984)</span>, <span class=\"lister-item-year text-muted unbold\">(2002)</span>, <span class=\"lister-item-year text-muted unbold\">(1965)</span>, <span class=\"lister-item-year text-muted unbold\">(1996)</span>, <span class=\"lister-item-year text-muted unbold\">(2007)</span>, <span class=\"lister-item-year text-muted unbold\">(1975)</span>, <span class=\"lister-item-year text-muted unbold\">(2011)</span>, <span class=\"lister-item-year text-muted unbold\">(1996)</span>]\n"
          ]
        }
      ]
    },
    {
      "cell_type": "code",
      "source": [
        "title = soup.find_all(\"h3\",class_=\"lister-item-header\")\n",
        "print(title)"
      ],
      "metadata": {
        "id": "ZII5wkRyFRva"
      },
      "execution_count": null,
      "outputs": []
    },
    {
      "cell_type": "code",
      "source": [
        "gross = soup.find_all(\"p\", class_=\"sort-num_votes-visible\")\n",
        "print(gross)"
      ],
      "metadata": {
        "id": "Q-8DAslpFRva"
      },
      "execution_count": null,
      "outputs": []
    },
    {
      "cell_type": "code",
      "source": [
        "user_rating = soup.find_all(\"div\",class_=\"inline-block ratings-imdb-rating\")\n",
        "print(user_rating)"
      ],
      "metadata": {
        "id": "hkW4EhI2FRva"
      },
      "execution_count": null,
      "outputs": []
    },
    {
      "cell_type": "code",
      "source": [
        "run_time = soup.find_all(\"span\",class_=\"runtime\")"
      ],
      "metadata": {
        "id": "cUKZxzunFRva"
      },
      "execution_count": 118,
      "outputs": []
    },
    {
      "cell_type": "code",
      "source": [
        "user_rating = soup.find_all(\"div\", class_=\"inline-block ratings-imdb-rating\")"
      ],
      "metadata": {
        "id": "EQu6JtDyjFRT"
      },
      "execution_count": null,
      "outputs": []
    },
    {
      "cell_type": "code",
      "source": [
        "num_votes = [i.text.strip() for i in gross]\n",
        "print(movie_gross[:0])\n",
        "print(movie_gross[1].split('\\n'))"
      ],
      "metadata": {
        "colab": {
          "base_uri": "https://localhost:8080/"
        },
        "outputId": "9a51e21b-74cf-4c88-c5c1-4ffb8075afbf",
        "id": "AOKLWY4BFRva"
      },
      "execution_count": 140,
      "outputs": [
        {
          "output_type": "stream",
          "name": "stdout",
          "text": [
            "[]\n",
            "['Votes:', '1,127,706', '| Gross:', '$70.51M', '| Top 250:', '#158']\n"
          ]
        }
      ]
    },
    {
      "cell_type": "code",
      "source": [
        "movie_gross = [i.text.strip() for i in gross]\n",
        "print(movie_gross[:0])\n",
        "print(movie_gross[1].split('\\n'))"
      ],
      "metadata": {
        "colab": {
          "base_uri": "https://localhost:8080/"
        },
        "id": "wSdvpDWpkgu3",
        "outputId": "642e6789-15c5-453b-a205-ff3c3a10af8c"
      },
      "execution_count": 137,
      "outputs": [
        {
          "output_type": "stream",
          "name": "stdout",
          "text": [
            "[]\n",
            "['Votes:', '1,127,706', '| Gross:', '$70.51M', '| Top 250:', '#158']\n"
          ]
        }
      ]
    },
    {
      "cell_type": "code",
      "source": [
        "movie_titles = [i.text.strip() for i in title]\n",
        "print(movie_titles[:5])\n",
        "print(movie_titles[0].split('\\n'))"
      ],
      "metadata": {
        "colab": {
          "base_uri": "https://localhost:8080/"
        },
        "outputId": "586a7d0a-fc9d-44e4-80a9-02419e61681e",
        "id": "wF9YIAGuFRvb"
      },
      "execution_count": 124,
      "outputs": [
        {
          "output_type": "stream",
          "name": "stdout",
          "text": [
            "['151.\\nL.A. Confidential\\n(1997)', '152.\\nV for Vendetta\\n(2005)', '153.\\nUnforgiven\\n(1992)', '154.\\nDownfall\\n(2004)', '155.\\nSome Like It Hot\\n(1959)']\n",
            "['151.', 'L.A. Confidential', '(1997)']\n"
          ]
        }
      ]
    },
    {
      "cell_type": "code",
      "source": [
        " df4 = pd.DataFrame({'rating':[i.text.strip() for i in rating],\n",
        "              'genre': [i.text.strip() for i in genre],\n",
        "              'year':  [i.text.strip('()') for i in year],\n",
        "              'title': [i.split('\\n')[1] for i in movie_titles],\n",
        "              'gross': [i.split('\\n')[3] for i in movie_gross],\n",
        "              'imdb_ranking': [i.split('\\n')[-1] for i in movie_gross],\n",
        "              'runtime': [i.text.strip() for i in run_time],\n",
        "              'user_rating': [i.text.strip() for i in user_rating],\n",
        "              'num_votes': [i.split('\\n')[1] for i in movie_gross]})"
      ],
      "metadata": {
        "id": "YXJCqxBBFRvb"
      },
      "execution_count": 141,
      "outputs": []
    },
    {
      "cell_type": "code",
      "source": [
        "df4.head()"
      ],
      "metadata": {
        "colab": {
          "base_uri": "https://localhost:8080/",
          "height": 206
        },
        "id": "WLL_o5v1Fk0s",
        "outputId": "a49d84a4-f740-4e3e-8352-8e49d185c794"
      },
      "execution_count": 142,
      "outputs": [
        {
          "output_type": "execute_result",
          "data": {
            "text/plain": [
              "   rating                      genre  year              title     gross  \\\n",
              "0       R      Crime, Drama, Mystery  1997  L.A. Confidential   $64.62M   \n",
              "1       R      Action, Drama, Sci-Fi  2005     V for Vendetta   $70.51M   \n",
              "2       R             Drama, Western  1992         Unforgiven  $101.16M   \n",
              "3       R  Biography, Drama, History  2004           Downfall    $5.51M   \n",
              "4  Passed     Comedy, Music, Romance  1959   Some Like It Hot   $25.00M   \n",
              "\n",
              "  imdb_ranking  runtime user_rating  num_votes  \n",
              "0         #117  138 min         8.2    586,763  \n",
              "1         #158  132 min         8.2  1,127,706  \n",
              "2         #139  130 min         8.2    415,368  \n",
              "3         #124  156 min         8.2    358,555  \n",
              "4         #129  121 min         8.2    270,048  "
            ],
            "text/html": [
              "\n",
              "  <div id=\"df-710ceeab-ef51-4a1b-8473-569a994927f9\">\n",
              "    <div class=\"colab-df-container\">\n",
              "      <div>\n",
              "<style scoped>\n",
              "    .dataframe tbody tr th:only-of-type {\n",
              "        vertical-align: middle;\n",
              "    }\n",
              "\n",
              "    .dataframe tbody tr th {\n",
              "        vertical-align: top;\n",
              "    }\n",
              "\n",
              "    .dataframe thead th {\n",
              "        text-align: right;\n",
              "    }\n",
              "</style>\n",
              "<table border=\"1\" class=\"dataframe\">\n",
              "  <thead>\n",
              "    <tr style=\"text-align: right;\">\n",
              "      <th></th>\n",
              "      <th>rating</th>\n",
              "      <th>genre</th>\n",
              "      <th>year</th>\n",
              "      <th>title</th>\n",
              "      <th>gross</th>\n",
              "      <th>imdb_ranking</th>\n",
              "      <th>runtime</th>\n",
              "      <th>user_rating</th>\n",
              "      <th>num_votes</th>\n",
              "    </tr>\n",
              "  </thead>\n",
              "  <tbody>\n",
              "    <tr>\n",
              "      <th>0</th>\n",
              "      <td>R</td>\n",
              "      <td>Crime, Drama, Mystery</td>\n",
              "      <td>1997</td>\n",
              "      <td>L.A. Confidential</td>\n",
              "      <td>$64.62M</td>\n",
              "      <td>#117</td>\n",
              "      <td>138 min</td>\n",
              "      <td>8.2</td>\n",
              "      <td>586,763</td>\n",
              "    </tr>\n",
              "    <tr>\n",
              "      <th>1</th>\n",
              "      <td>R</td>\n",
              "      <td>Action, Drama, Sci-Fi</td>\n",
              "      <td>2005</td>\n",
              "      <td>V for Vendetta</td>\n",
              "      <td>$70.51M</td>\n",
              "      <td>#158</td>\n",
              "      <td>132 min</td>\n",
              "      <td>8.2</td>\n",
              "      <td>1,127,706</td>\n",
              "    </tr>\n",
              "    <tr>\n",
              "      <th>2</th>\n",
              "      <td>R</td>\n",
              "      <td>Drama, Western</td>\n",
              "      <td>1992</td>\n",
              "      <td>Unforgiven</td>\n",
              "      <td>$101.16M</td>\n",
              "      <td>#139</td>\n",
              "      <td>130 min</td>\n",
              "      <td>8.2</td>\n",
              "      <td>415,368</td>\n",
              "    </tr>\n",
              "    <tr>\n",
              "      <th>3</th>\n",
              "      <td>R</td>\n",
              "      <td>Biography, Drama, History</td>\n",
              "      <td>2004</td>\n",
              "      <td>Downfall</td>\n",
              "      <td>$5.51M</td>\n",
              "      <td>#124</td>\n",
              "      <td>156 min</td>\n",
              "      <td>8.2</td>\n",
              "      <td>358,555</td>\n",
              "    </tr>\n",
              "    <tr>\n",
              "      <th>4</th>\n",
              "      <td>Passed</td>\n",
              "      <td>Comedy, Music, Romance</td>\n",
              "      <td>1959</td>\n",
              "      <td>Some Like It Hot</td>\n",
              "      <td>$25.00M</td>\n",
              "      <td>#129</td>\n",
              "      <td>121 min</td>\n",
              "      <td>8.2</td>\n",
              "      <td>270,048</td>\n",
              "    </tr>\n",
              "  </tbody>\n",
              "</table>\n",
              "</div>\n",
              "      <button class=\"colab-df-convert\" onclick=\"convertToInteractive('df-710ceeab-ef51-4a1b-8473-569a994927f9')\"\n",
              "              title=\"Convert this dataframe to an interactive table.\"\n",
              "              style=\"display:none;\">\n",
              "        \n",
              "  <svg xmlns=\"http://www.w3.org/2000/svg\" height=\"24px\"viewBox=\"0 0 24 24\"\n",
              "       width=\"24px\">\n",
              "    <path d=\"M0 0h24v24H0V0z\" fill=\"none\"/>\n",
              "    <path d=\"M18.56 5.44l.94 2.06.94-2.06 2.06-.94-2.06-.94-.94-2.06-.94 2.06-2.06.94zm-11 1L8.5 8.5l.94-2.06 2.06-.94-2.06-.94L8.5 2.5l-.94 2.06-2.06.94zm10 10l.94 2.06.94-2.06 2.06-.94-2.06-.94-.94-2.06-.94 2.06-2.06.94z\"/><path d=\"M17.41 7.96l-1.37-1.37c-.4-.4-.92-.59-1.43-.59-.52 0-1.04.2-1.43.59L10.3 9.45l-7.72 7.72c-.78.78-.78 2.05 0 2.83L4 21.41c.39.39.9.59 1.41.59.51 0 1.02-.2 1.41-.59l7.78-7.78 2.81-2.81c.8-.78.8-2.07 0-2.86zM5.41 20L4 18.59l7.72-7.72 1.47 1.35L5.41 20z\"/>\n",
              "  </svg>\n",
              "      </button>\n",
              "      \n",
              "  <style>\n",
              "    .colab-df-container {\n",
              "      display:flex;\n",
              "      flex-wrap:wrap;\n",
              "      gap: 12px;\n",
              "    }\n",
              "\n",
              "    .colab-df-convert {\n",
              "      background-color: #E8F0FE;\n",
              "      border: none;\n",
              "      border-radius: 50%;\n",
              "      cursor: pointer;\n",
              "      display: none;\n",
              "      fill: #1967D2;\n",
              "      height: 32px;\n",
              "      padding: 0 0 0 0;\n",
              "      width: 32px;\n",
              "    }\n",
              "\n",
              "    .colab-df-convert:hover {\n",
              "      background-color: #E2EBFA;\n",
              "      box-shadow: 0px 1px 2px rgba(60, 64, 67, 0.3), 0px 1px 3px 1px rgba(60, 64, 67, 0.15);\n",
              "      fill: #174EA6;\n",
              "    }\n",
              "\n",
              "    [theme=dark] .colab-df-convert {\n",
              "      background-color: #3B4455;\n",
              "      fill: #D2E3FC;\n",
              "    }\n",
              "\n",
              "    [theme=dark] .colab-df-convert:hover {\n",
              "      background-color: #434B5C;\n",
              "      box-shadow: 0px 1px 3px 1px rgba(0, 0, 0, 0.15);\n",
              "      filter: drop-shadow(0px 1px 2px rgba(0, 0, 0, 0.3));\n",
              "      fill: #FFFFFF;\n",
              "    }\n",
              "  </style>\n",
              "\n",
              "      <script>\n",
              "        const buttonEl =\n",
              "          document.querySelector('#df-710ceeab-ef51-4a1b-8473-569a994927f9 button.colab-df-convert');\n",
              "        buttonEl.style.display =\n",
              "          google.colab.kernel.accessAllowed ? 'block' : 'none';\n",
              "\n",
              "        async function convertToInteractive(key) {\n",
              "          const element = document.querySelector('#df-710ceeab-ef51-4a1b-8473-569a994927f9');\n",
              "          const dataTable =\n",
              "            await google.colab.kernel.invokeFunction('convertToInteractive',\n",
              "                                                     [key], {});\n",
              "          if (!dataTable) return;\n",
              "\n",
              "          const docLinkHtml = 'Like what you see? Visit the ' +\n",
              "            '<a target=\"_blank\" href=https://colab.research.google.com/notebooks/data_table.ipynb>data table notebook</a>'\n",
              "            + ' to learn more about interactive tables.';\n",
              "          element.innerHTML = '';\n",
              "          dataTable['output_type'] = 'display_data';\n",
              "          await google.colab.output.renderOutput(dataTable, element);\n",
              "          const docLink = document.createElement('div');\n",
              "          docLink.innerHTML = docLinkHtml;\n",
              "          element.appendChild(docLink);\n",
              "        }\n",
              "      </script>\n",
              "    </div>\n",
              "  </div>\n",
              "  "
            ]
          },
          "metadata": {},
          "execution_count": 142
        }
      ]
    },
    {
      "cell_type": "markdown",
      "source": [
        "# **200-250**\n",
        "\n",
        "---\n",
        "\n"
      ],
      "metadata": {
        "id": "_UgmbpZkmwc9"
      }
    },
    {
      "cell_type": "code",
      "source": [
        "url = \"https://www.imdb.com/search/title/?groups=top_250&sort=user_rating,desc&start=201&ref_=adv_nxt\" # Enter the API URL\n",
        "page=requests.get(url)"
      ],
      "metadata": {
        "id": "srYwRs3Rm71K"
      },
      "execution_count": 167,
      "outputs": []
    },
    {
      "cell_type": "code",
      "source": [
        "print(page)"
      ],
      "metadata": {
        "colab": {
          "base_uri": "https://localhost:8080/"
        },
        "outputId": "8c72226c-9f5c-41e5-e7ce-5bc0f7b23583",
        "id": "2vaPi_4km71K"
      },
      "execution_count": 168,
      "outputs": [
        {
          "output_type": "stream",
          "name": "stdout",
          "text": [
            "<Response [200]>\n"
          ]
        }
      ]
    },
    {
      "cell_type": "code",
      "source": [
        "soup = BeautifulSoup(page.content, \"html.parser\")"
      ],
      "metadata": {
        "id": "DXtrQ5aVm71L"
      },
      "execution_count": 169,
      "outputs": []
    },
    {
      "cell_type": "code",
      "source": [
        "genre = soup.find_all(\"span\",class_='genre')\n",
        "print(genre)"
      ],
      "metadata": {
        "id": "L3bJ3mSwm71L"
      },
      "execution_count": null,
      "outputs": []
    },
    {
      "cell_type": "code",
      "source": [
        "rating = soup.find_all(\"span\",class_=\"certificate\")\n",
        "print(rating)"
      ],
      "metadata": {
        "id": "BZ79NCA3m71L"
      },
      "execution_count": null,
      "outputs": []
    },
    {
      "cell_type": "code",
      "source": [
        "year = soup.find_all(\"span\",class_=\"lister-item-year text-muted unbold\")\n",
        "print(year)"
      ],
      "metadata": {
        "id": "PYey4Xyvm71L"
      },
      "execution_count": null,
      "outputs": []
    },
    {
      "cell_type": "code",
      "source": [
        "title = soup.find_all(\"h3\",class_=\"lister-item-header\")\n",
        "print(title)"
      ],
      "metadata": {
        "id": "VaLz1RTYm71L"
      },
      "execution_count": null,
      "outputs": []
    },
    {
      "cell_type": "code",
      "source": [
        "gross = soup.find_all(\"p\", class_=\"sort-num_votes-visible\")\n",
        "print(gross)"
      ],
      "metadata": {
        "id": "l3tWg0Pcm71L"
      },
      "execution_count": null,
      "outputs": []
    },
    {
      "cell_type": "code",
      "source": [
        "user_rating = soup.find_all(\"div\",class_=\"inline-block ratings-imdb-rating\")\n",
        "print(user_rating)"
      ],
      "metadata": {
        "id": "S73cFZB5m71L"
      },
      "execution_count": null,
      "outputs": []
    },
    {
      "cell_type": "code",
      "source": [
        "run_time = soup.find_all(\"span\",class_=\"runtime\")"
      ],
      "metadata": {
        "id": "sjokZKTlm71L"
      },
      "execution_count": 176,
      "outputs": []
    },
    {
      "cell_type": "code",
      "source": [
        "user_rating = soup.find_all(\"div\", class_=\"inline-block ratings-imdb-rating\")"
      ],
      "metadata": {
        "id": "zJT4v640m71L"
      },
      "execution_count": 177,
      "outputs": []
    },
    {
      "cell_type": "code",
      "source": [
        "num_votes = [i.text.strip() for i in gross]\n",
        "print(movie_gross[:0])\n",
        "print(movie_gross[1].split('\\n'))"
      ],
      "metadata": {
        "colab": {
          "base_uri": "https://localhost:8080/"
        },
        "outputId": "0669dbb8-3fb8-4255-f912-13bcf55c83c7",
        "id": "P-a9m81Sm71L"
      },
      "execution_count": 178,
      "outputs": [
        {
          "output_type": "stream",
          "name": "stdout",
          "text": [
            "[]\n",
            "['Votes:', '1,127,706', '| Gross:', '$70.51M', '| Top 250:', '#158']\n"
          ]
        }
      ]
    },
    {
      "cell_type": "code",
      "source": [
        "movie_gross = [i.text.strip() for i in gross]\n",
        "print(movie_gross[:0])\n",
        "print(movie_gross[1].split('\\n'))"
      ],
      "metadata": {
        "colab": {
          "base_uri": "https://localhost:8080/"
        },
        "outputId": "4b7bb803-6139-48ae-fb7b-62416189033d",
        "id": "NuGO_sU8m71L"
      },
      "execution_count": 179,
      "outputs": [
        {
          "output_type": "stream",
          "name": "stdout",
          "text": [
            "[]\n",
            "['Votes:', '412,789', '| Gross:', '$232.91M', '| Top 250:', '#226']\n"
          ]
        }
      ]
    },
    {
      "cell_type": "code",
      "source": [
        "movie_titles = [i.text.strip() for i in title]\n",
        "print(movie_titles[:5])\n",
        "print(movie_titles[0].split('\\n'))"
      ],
      "metadata": {
        "colab": {
          "base_uri": "https://localhost:8080/"
        },
        "outputId": "c3709f1b-c203-4d12-db0c-a2b5a1a1166a",
        "id": "XEiDhpnrm71M"
      },
      "execution_count": 180,
      "outputs": [
        {
          "output_type": "stream",
          "name": "stdout",
          "text": [
            "['201.\\nDead Poets Society\\n(1989)', '202.\\nThe Exorcist\\n(1973)', '203.\\nSpotlight\\n(I) (2015)', '204.\\nThe Wizard of Oz\\n(1939)', '205.\\nBefore Sunrise\\n(1995)']\n",
            "['201.', 'Dead Poets Society', '(1989)']\n"
          ]
        }
      ]
    },
    {
      "cell_type": "code",
      "source": [
        " df5 = pd.DataFrame({'rating':[i.text.strip() for i in rating],\n",
        "              'genre': [i.text.strip() for i in genre],\n",
        "              'year':  [i.text.strip('()') for i in year],\n",
        "              'title': [i.split('\\n')[1] for i in movie_titles],\n",
        "              'gross': [i.split('\\n')[3] for i in movie_gross],\n",
        "              'imdb_ranking': [i.split('\\n')[-1] for i in movie_gross],\n",
        "              'runtime': [i.text.strip() for i in run_time],\n",
        "              'user_rating': [i.text.strip() for i in user_rating],\n",
        "              'num_votes': [i.split('\\n')[1] for i in movie_gross]})"
      ],
      "metadata": {
        "id": "EuI6oeWtm71M"
      },
      "execution_count": 181,
      "outputs": []
    },
    {
      "cell_type": "code",
      "source": [
        "df5.head()"
      ],
      "metadata": {
        "colab": {
          "base_uri": "https://localhost:8080/",
          "height": 206
        },
        "outputId": "752e2958-a40c-4da8-9fc8-1476e8cdadda",
        "id": "XjokZuOmm71M"
      },
      "execution_count": 182,
      "outputs": [
        {
          "output_type": "execute_result",
          "data": {
            "text/plain": [
              "  rating                       genre      year               title     gross  \\\n",
              "0     PG               Comedy, Drama      1989  Dead Poets Society   $95.86M   \n",
              "1      R                      Horror      1973        The Exorcist  $232.91M   \n",
              "2      R     Biography, Crime, Drama  I) (2015           Spotlight   $45.06M   \n",
              "3     PG  Adventure, Family, Fantasy      1939    The Wizard of Oz    $2.08M   \n",
              "4      R              Drama, Romance      1995      Before Sunrise    $5.54M   \n",
              "\n",
              "  imdb_ranking  runtime user_rating num_votes  \n",
              "0         #206  128 min         8.1   497,132  \n",
              "1         #226  122 min         8.1   412,789  \n",
              "2         #214  129 min         8.1   473,963  \n",
              "3         #222  102 min         8.1   404,096  \n",
              "4         #178  101 min         8.1   312,566  "
            ],
            "text/html": [
              "\n",
              "  <div id=\"df-bdf6f1b7-e426-48b0-8c47-82c23edb796d\">\n",
              "    <div class=\"colab-df-container\">\n",
              "      <div>\n",
              "<style scoped>\n",
              "    .dataframe tbody tr th:only-of-type {\n",
              "        vertical-align: middle;\n",
              "    }\n",
              "\n",
              "    .dataframe tbody tr th {\n",
              "        vertical-align: top;\n",
              "    }\n",
              "\n",
              "    .dataframe thead th {\n",
              "        text-align: right;\n",
              "    }\n",
              "</style>\n",
              "<table border=\"1\" class=\"dataframe\">\n",
              "  <thead>\n",
              "    <tr style=\"text-align: right;\">\n",
              "      <th></th>\n",
              "      <th>rating</th>\n",
              "      <th>genre</th>\n",
              "      <th>year</th>\n",
              "      <th>title</th>\n",
              "      <th>gross</th>\n",
              "      <th>imdb_ranking</th>\n",
              "      <th>runtime</th>\n",
              "      <th>user_rating</th>\n",
              "      <th>num_votes</th>\n",
              "    </tr>\n",
              "  </thead>\n",
              "  <tbody>\n",
              "    <tr>\n",
              "      <th>0</th>\n",
              "      <td>PG</td>\n",
              "      <td>Comedy, Drama</td>\n",
              "      <td>1989</td>\n",
              "      <td>Dead Poets Society</td>\n",
              "      <td>$95.86M</td>\n",
              "      <td>#206</td>\n",
              "      <td>128 min</td>\n",
              "      <td>8.1</td>\n",
              "      <td>497,132</td>\n",
              "    </tr>\n",
              "    <tr>\n",
              "      <th>1</th>\n",
              "      <td>R</td>\n",
              "      <td>Horror</td>\n",
              "      <td>1973</td>\n",
              "      <td>The Exorcist</td>\n",
              "      <td>$232.91M</td>\n",
              "      <td>#226</td>\n",
              "      <td>122 min</td>\n",
              "      <td>8.1</td>\n",
              "      <td>412,789</td>\n",
              "    </tr>\n",
              "    <tr>\n",
              "      <th>2</th>\n",
              "      <td>R</td>\n",
              "      <td>Biography, Crime, Drama</td>\n",
              "      <td>I) (2015</td>\n",
              "      <td>Spotlight</td>\n",
              "      <td>$45.06M</td>\n",
              "      <td>#214</td>\n",
              "      <td>129 min</td>\n",
              "      <td>8.1</td>\n",
              "      <td>473,963</td>\n",
              "    </tr>\n",
              "    <tr>\n",
              "      <th>3</th>\n",
              "      <td>PG</td>\n",
              "      <td>Adventure, Family, Fantasy</td>\n",
              "      <td>1939</td>\n",
              "      <td>The Wizard of Oz</td>\n",
              "      <td>$2.08M</td>\n",
              "      <td>#222</td>\n",
              "      <td>102 min</td>\n",
              "      <td>8.1</td>\n",
              "      <td>404,096</td>\n",
              "    </tr>\n",
              "    <tr>\n",
              "      <th>4</th>\n",
              "      <td>R</td>\n",
              "      <td>Drama, Romance</td>\n",
              "      <td>1995</td>\n",
              "      <td>Before Sunrise</td>\n",
              "      <td>$5.54M</td>\n",
              "      <td>#178</td>\n",
              "      <td>101 min</td>\n",
              "      <td>8.1</td>\n",
              "      <td>312,566</td>\n",
              "    </tr>\n",
              "  </tbody>\n",
              "</table>\n",
              "</div>\n",
              "      <button class=\"colab-df-convert\" onclick=\"convertToInteractive('df-bdf6f1b7-e426-48b0-8c47-82c23edb796d')\"\n",
              "              title=\"Convert this dataframe to an interactive table.\"\n",
              "              style=\"display:none;\">\n",
              "        \n",
              "  <svg xmlns=\"http://www.w3.org/2000/svg\" height=\"24px\"viewBox=\"0 0 24 24\"\n",
              "       width=\"24px\">\n",
              "    <path d=\"M0 0h24v24H0V0z\" fill=\"none\"/>\n",
              "    <path d=\"M18.56 5.44l.94 2.06.94-2.06 2.06-.94-2.06-.94-.94-2.06-.94 2.06-2.06.94zm-11 1L8.5 8.5l.94-2.06 2.06-.94-2.06-.94L8.5 2.5l-.94 2.06-2.06.94zm10 10l.94 2.06.94-2.06 2.06-.94-2.06-.94-.94-2.06-.94 2.06-2.06.94z\"/><path d=\"M17.41 7.96l-1.37-1.37c-.4-.4-.92-.59-1.43-.59-.52 0-1.04.2-1.43.59L10.3 9.45l-7.72 7.72c-.78.78-.78 2.05 0 2.83L4 21.41c.39.39.9.59 1.41.59.51 0 1.02-.2 1.41-.59l7.78-7.78 2.81-2.81c.8-.78.8-2.07 0-2.86zM5.41 20L4 18.59l7.72-7.72 1.47 1.35L5.41 20z\"/>\n",
              "  </svg>\n",
              "      </button>\n",
              "      \n",
              "  <style>\n",
              "    .colab-df-container {\n",
              "      display:flex;\n",
              "      flex-wrap:wrap;\n",
              "      gap: 12px;\n",
              "    }\n",
              "\n",
              "    .colab-df-convert {\n",
              "      background-color: #E8F0FE;\n",
              "      border: none;\n",
              "      border-radius: 50%;\n",
              "      cursor: pointer;\n",
              "      display: none;\n",
              "      fill: #1967D2;\n",
              "      height: 32px;\n",
              "      padding: 0 0 0 0;\n",
              "      width: 32px;\n",
              "    }\n",
              "\n",
              "    .colab-df-convert:hover {\n",
              "      background-color: #E2EBFA;\n",
              "      box-shadow: 0px 1px 2px rgba(60, 64, 67, 0.3), 0px 1px 3px 1px rgba(60, 64, 67, 0.15);\n",
              "      fill: #174EA6;\n",
              "    }\n",
              "\n",
              "    [theme=dark] .colab-df-convert {\n",
              "      background-color: #3B4455;\n",
              "      fill: #D2E3FC;\n",
              "    }\n",
              "\n",
              "    [theme=dark] .colab-df-convert:hover {\n",
              "      background-color: #434B5C;\n",
              "      box-shadow: 0px 1px 3px 1px rgba(0, 0, 0, 0.15);\n",
              "      filter: drop-shadow(0px 1px 2px rgba(0, 0, 0, 0.3));\n",
              "      fill: #FFFFFF;\n",
              "    }\n",
              "  </style>\n",
              "\n",
              "      <script>\n",
              "        const buttonEl =\n",
              "          document.querySelector('#df-bdf6f1b7-e426-48b0-8c47-82c23edb796d button.colab-df-convert');\n",
              "        buttonEl.style.display =\n",
              "          google.colab.kernel.accessAllowed ? 'block' : 'none';\n",
              "\n",
              "        async function convertToInteractive(key) {\n",
              "          const element = document.querySelector('#df-bdf6f1b7-e426-48b0-8c47-82c23edb796d');\n",
              "          const dataTable =\n",
              "            await google.colab.kernel.invokeFunction('convertToInteractive',\n",
              "                                                     [key], {});\n",
              "          if (!dataTable) return;\n",
              "\n",
              "          const docLinkHtml = 'Like what you see? Visit the ' +\n",
              "            '<a target=\"_blank\" href=https://colab.research.google.com/notebooks/data_table.ipynb>data table notebook</a>'\n",
              "            + ' to learn more about interactive tables.';\n",
              "          element.innerHTML = '';\n",
              "          dataTable['output_type'] = 'display_data';\n",
              "          await google.colab.output.renderOutput(dataTable, element);\n",
              "          const docLink = document.createElement('div');\n",
              "          docLink.innerHTML = docLinkHtml;\n",
              "          element.appendChild(docLink);\n",
              "        }\n",
              "      </script>\n",
              "    </div>\n",
              "  </div>\n",
              "  "
            ]
          },
          "metadata": {},
          "execution_count": 182
        }
      ]
    },
    {
      "cell_type": "markdown",
      "source": [
        "# **Merge Files**\n",
        "\n",
        "---\n"
      ],
      "metadata": {
        "id": "LltvJW7-CwXq"
      }
    },
    {
      "cell_type": "code",
      "source": [
        "new_df = pd.concat([df1, df2,df3,df4,df5], ignore_index=True, sort=False)"
      ],
      "metadata": {
        "id": "OBJSVEVr_E1g"
      },
      "execution_count": 186,
      "outputs": []
    },
    {
      "cell_type": "code",
      "source": [
        "new_df"
      ],
      "metadata": {
        "colab": {
          "base_uri": "https://localhost:8080/",
          "height": 424
        },
        "id": "BuGpAGWrD6lz",
        "outputId": "798808d8-9701-4af6-e4cc-b622cafae742"
      },
      "execution_count": 187,
      "outputs": [
        {
          "output_type": "execute_result",
          "data": {
            "text/plain": [
              "     rating                         genre  year               title     gross  \\\n",
              "0         R         Crime, Drama, Mystery  1997   L.A. Confidential   $64.62M   \n",
              "1         R         Action, Drama, Sci-Fi  2005      V for Vendetta   $70.51M   \n",
              "2         R                Drama, Western  1992          Unforgiven  $101.16M   \n",
              "3         R     Biography, Drama, History  2004            Downfall    $5.51M   \n",
              "4    Passed        Comedy, Music, Romance  1959    Some Like It Hot   $25.00M   \n",
              "..      ...                           ...   ...                 ...       ...   \n",
              "245   PG-13     Adventure, Drama, Western  1990  Dances with Wolves  $184.21M   \n",
              "246      PG  Animation, Action, Adventure  2004     The Incredibles  $261.44M   \n",
              "247       G  Animation, Adventure, Comedy  1992             Aladdin  $217.35M   \n",
              "248       R                        Comedy  1979       Life of Brian   $20.05M   \n",
              "249      PG     Biography, Drama, History  1982              Gandhi   $52.77M   \n",
              "\n",
              "    imdb_ranking  runtime user_rating  num_votes  \n",
              "0           #117  138 min         8.2    586,763  \n",
              "1           #158  132 min         8.2  1,127,706  \n",
              "2           #139  130 min         8.2    415,368  \n",
              "3           #124  156 min         8.2    358,555  \n",
              "4           #129  121 min         8.2    270,048  \n",
              "..           ...      ...         ...        ...  \n",
              "245         #250  181 min         8.0    269,266  \n",
              "246         #227  115 min         8.0    744,670  \n",
              "247         #248   90 min         8.0    425,699  \n",
              "248         #244   94 min         8.0    403,398  \n",
              "249         #249  191 min         8.0    233,754  \n",
              "\n",
              "[250 rows x 9 columns]"
            ],
            "text/html": [
              "\n",
              "  <div id=\"df-36871178-2b4a-4402-85d5-fe0a2b1619fc\">\n",
              "    <div class=\"colab-df-container\">\n",
              "      <div>\n",
              "<style scoped>\n",
              "    .dataframe tbody tr th:only-of-type {\n",
              "        vertical-align: middle;\n",
              "    }\n",
              "\n",
              "    .dataframe tbody tr th {\n",
              "        vertical-align: top;\n",
              "    }\n",
              "\n",
              "    .dataframe thead th {\n",
              "        text-align: right;\n",
              "    }\n",
              "</style>\n",
              "<table border=\"1\" class=\"dataframe\">\n",
              "  <thead>\n",
              "    <tr style=\"text-align: right;\">\n",
              "      <th></th>\n",
              "      <th>rating</th>\n",
              "      <th>genre</th>\n",
              "      <th>year</th>\n",
              "      <th>title</th>\n",
              "      <th>gross</th>\n",
              "      <th>imdb_ranking</th>\n",
              "      <th>runtime</th>\n",
              "      <th>user_rating</th>\n",
              "      <th>num_votes</th>\n",
              "    </tr>\n",
              "  </thead>\n",
              "  <tbody>\n",
              "    <tr>\n",
              "      <th>0</th>\n",
              "      <td>R</td>\n",
              "      <td>Crime, Drama, Mystery</td>\n",
              "      <td>1997</td>\n",
              "      <td>L.A. Confidential</td>\n",
              "      <td>$64.62M</td>\n",
              "      <td>#117</td>\n",
              "      <td>138 min</td>\n",
              "      <td>8.2</td>\n",
              "      <td>586,763</td>\n",
              "    </tr>\n",
              "    <tr>\n",
              "      <th>1</th>\n",
              "      <td>R</td>\n",
              "      <td>Action, Drama, Sci-Fi</td>\n",
              "      <td>2005</td>\n",
              "      <td>V for Vendetta</td>\n",
              "      <td>$70.51M</td>\n",
              "      <td>#158</td>\n",
              "      <td>132 min</td>\n",
              "      <td>8.2</td>\n",
              "      <td>1,127,706</td>\n",
              "    </tr>\n",
              "    <tr>\n",
              "      <th>2</th>\n",
              "      <td>R</td>\n",
              "      <td>Drama, Western</td>\n",
              "      <td>1992</td>\n",
              "      <td>Unforgiven</td>\n",
              "      <td>$101.16M</td>\n",
              "      <td>#139</td>\n",
              "      <td>130 min</td>\n",
              "      <td>8.2</td>\n",
              "      <td>415,368</td>\n",
              "    </tr>\n",
              "    <tr>\n",
              "      <th>3</th>\n",
              "      <td>R</td>\n",
              "      <td>Biography, Drama, History</td>\n",
              "      <td>2004</td>\n",
              "      <td>Downfall</td>\n",
              "      <td>$5.51M</td>\n",
              "      <td>#124</td>\n",
              "      <td>156 min</td>\n",
              "      <td>8.2</td>\n",
              "      <td>358,555</td>\n",
              "    </tr>\n",
              "    <tr>\n",
              "      <th>4</th>\n",
              "      <td>Passed</td>\n",
              "      <td>Comedy, Music, Romance</td>\n",
              "      <td>1959</td>\n",
              "      <td>Some Like It Hot</td>\n",
              "      <td>$25.00M</td>\n",
              "      <td>#129</td>\n",
              "      <td>121 min</td>\n",
              "      <td>8.2</td>\n",
              "      <td>270,048</td>\n",
              "    </tr>\n",
              "    <tr>\n",
              "      <th>...</th>\n",
              "      <td>...</td>\n",
              "      <td>...</td>\n",
              "      <td>...</td>\n",
              "      <td>...</td>\n",
              "      <td>...</td>\n",
              "      <td>...</td>\n",
              "      <td>...</td>\n",
              "      <td>...</td>\n",
              "      <td>...</td>\n",
              "    </tr>\n",
              "    <tr>\n",
              "      <th>245</th>\n",
              "      <td>PG-13</td>\n",
              "      <td>Adventure, Drama, Western</td>\n",
              "      <td>1990</td>\n",
              "      <td>Dances with Wolves</td>\n",
              "      <td>$184.21M</td>\n",
              "      <td>#250</td>\n",
              "      <td>181 min</td>\n",
              "      <td>8.0</td>\n",
              "      <td>269,266</td>\n",
              "    </tr>\n",
              "    <tr>\n",
              "      <th>246</th>\n",
              "      <td>PG</td>\n",
              "      <td>Animation, Action, Adventure</td>\n",
              "      <td>2004</td>\n",
              "      <td>The Incredibles</td>\n",
              "      <td>$261.44M</td>\n",
              "      <td>#227</td>\n",
              "      <td>115 min</td>\n",
              "      <td>8.0</td>\n",
              "      <td>744,670</td>\n",
              "    </tr>\n",
              "    <tr>\n",
              "      <th>247</th>\n",
              "      <td>G</td>\n",
              "      <td>Animation, Adventure, Comedy</td>\n",
              "      <td>1992</td>\n",
              "      <td>Aladdin</td>\n",
              "      <td>$217.35M</td>\n",
              "      <td>#248</td>\n",
              "      <td>90 min</td>\n",
              "      <td>8.0</td>\n",
              "      <td>425,699</td>\n",
              "    </tr>\n",
              "    <tr>\n",
              "      <th>248</th>\n",
              "      <td>R</td>\n",
              "      <td>Comedy</td>\n",
              "      <td>1979</td>\n",
              "      <td>Life of Brian</td>\n",
              "      <td>$20.05M</td>\n",
              "      <td>#244</td>\n",
              "      <td>94 min</td>\n",
              "      <td>8.0</td>\n",
              "      <td>403,398</td>\n",
              "    </tr>\n",
              "    <tr>\n",
              "      <th>249</th>\n",
              "      <td>PG</td>\n",
              "      <td>Biography, Drama, History</td>\n",
              "      <td>1982</td>\n",
              "      <td>Gandhi</td>\n",
              "      <td>$52.77M</td>\n",
              "      <td>#249</td>\n",
              "      <td>191 min</td>\n",
              "      <td>8.0</td>\n",
              "      <td>233,754</td>\n",
              "    </tr>\n",
              "  </tbody>\n",
              "</table>\n",
              "<p>250 rows × 9 columns</p>\n",
              "</div>\n",
              "      <button class=\"colab-df-convert\" onclick=\"convertToInteractive('df-36871178-2b4a-4402-85d5-fe0a2b1619fc')\"\n",
              "              title=\"Convert this dataframe to an interactive table.\"\n",
              "              style=\"display:none;\">\n",
              "        \n",
              "  <svg xmlns=\"http://www.w3.org/2000/svg\" height=\"24px\"viewBox=\"0 0 24 24\"\n",
              "       width=\"24px\">\n",
              "    <path d=\"M0 0h24v24H0V0z\" fill=\"none\"/>\n",
              "    <path d=\"M18.56 5.44l.94 2.06.94-2.06 2.06-.94-2.06-.94-.94-2.06-.94 2.06-2.06.94zm-11 1L8.5 8.5l.94-2.06 2.06-.94-2.06-.94L8.5 2.5l-.94 2.06-2.06.94zm10 10l.94 2.06.94-2.06 2.06-.94-2.06-.94-.94-2.06-.94 2.06-2.06.94z\"/><path d=\"M17.41 7.96l-1.37-1.37c-.4-.4-.92-.59-1.43-.59-.52 0-1.04.2-1.43.59L10.3 9.45l-7.72 7.72c-.78.78-.78 2.05 0 2.83L4 21.41c.39.39.9.59 1.41.59.51 0 1.02-.2 1.41-.59l7.78-7.78 2.81-2.81c.8-.78.8-2.07 0-2.86zM5.41 20L4 18.59l7.72-7.72 1.47 1.35L5.41 20z\"/>\n",
              "  </svg>\n",
              "      </button>\n",
              "      \n",
              "  <style>\n",
              "    .colab-df-container {\n",
              "      display:flex;\n",
              "      flex-wrap:wrap;\n",
              "      gap: 12px;\n",
              "    }\n",
              "\n",
              "    .colab-df-convert {\n",
              "      background-color: #E8F0FE;\n",
              "      border: none;\n",
              "      border-radius: 50%;\n",
              "      cursor: pointer;\n",
              "      display: none;\n",
              "      fill: #1967D2;\n",
              "      height: 32px;\n",
              "      padding: 0 0 0 0;\n",
              "      width: 32px;\n",
              "    }\n",
              "\n",
              "    .colab-df-convert:hover {\n",
              "      background-color: #E2EBFA;\n",
              "      box-shadow: 0px 1px 2px rgba(60, 64, 67, 0.3), 0px 1px 3px 1px rgba(60, 64, 67, 0.15);\n",
              "      fill: #174EA6;\n",
              "    }\n",
              "\n",
              "    [theme=dark] .colab-df-convert {\n",
              "      background-color: #3B4455;\n",
              "      fill: #D2E3FC;\n",
              "    }\n",
              "\n",
              "    [theme=dark] .colab-df-convert:hover {\n",
              "      background-color: #434B5C;\n",
              "      box-shadow: 0px 1px 3px 1px rgba(0, 0, 0, 0.15);\n",
              "      filter: drop-shadow(0px 1px 2px rgba(0, 0, 0, 0.3));\n",
              "      fill: #FFFFFF;\n",
              "    }\n",
              "  </style>\n",
              "\n",
              "      <script>\n",
              "        const buttonEl =\n",
              "          document.querySelector('#df-36871178-2b4a-4402-85d5-fe0a2b1619fc button.colab-df-convert');\n",
              "        buttonEl.style.display =\n",
              "          google.colab.kernel.accessAllowed ? 'block' : 'none';\n",
              "\n",
              "        async function convertToInteractive(key) {\n",
              "          const element = document.querySelector('#df-36871178-2b4a-4402-85d5-fe0a2b1619fc');\n",
              "          const dataTable =\n",
              "            await google.colab.kernel.invokeFunction('convertToInteractive',\n",
              "                                                     [key], {});\n",
              "          if (!dataTable) return;\n",
              "\n",
              "          const docLinkHtml = 'Like what you see? Visit the ' +\n",
              "            '<a target=\"_blank\" href=https://colab.research.google.com/notebooks/data_table.ipynb>data table notebook</a>'\n",
              "            + ' to learn more about interactive tables.';\n",
              "          element.innerHTML = '';\n",
              "          dataTable['output_type'] = 'display_data';\n",
              "          await google.colab.output.renderOutput(dataTable, element);\n",
              "          const docLink = document.createElement('div');\n",
              "          docLink.innerHTML = docLinkHtml;\n",
              "          element.appendChild(docLink);\n",
              "        }\n",
              "      </script>\n",
              "    </div>\n",
              "  </div>\n",
              "  "
            ]
          },
          "metadata": {},
          "execution_count": 187
        }
      ]
    },
    {
      "cell_type": "code",
      "source": [
        "from google.colab import files\n",
        "new_df.to_csv('new_df.csv', index = False, encoding = 'utf-8-sig') \n",
        "files.download('new_df.csv')"
      ],
      "metadata": {
        "colab": {
          "base_uri": "https://localhost:8080/",
          "height": 17
        },
        "id": "PvL9lUI1hbJo",
        "outputId": "1ccdcc17-8012-4556-9aa9-7f6af8d27696"
      },
      "execution_count": 185,
      "outputs": [
        {
          "output_type": "display_data",
          "data": {
            "text/plain": [
              "<IPython.core.display.Javascript object>"
            ],
            "application/javascript": [
              "\n",
              "    async function download(id, filename, size) {\n",
              "      if (!google.colab.kernel.accessAllowed) {\n",
              "        return;\n",
              "      }\n",
              "      const div = document.createElement('div');\n",
              "      const label = document.createElement('label');\n",
              "      label.textContent = `Downloading \"${filename}\": `;\n",
              "      div.appendChild(label);\n",
              "      const progress = document.createElement('progress');\n",
              "      progress.max = size;\n",
              "      div.appendChild(progress);\n",
              "      document.body.appendChild(div);\n",
              "\n",
              "      const buffers = [];\n",
              "      let downloaded = 0;\n",
              "\n",
              "      const channel = await google.colab.kernel.comms.open(id);\n",
              "      // Send a message to notify the kernel that we're ready.\n",
              "      channel.send({})\n",
              "\n",
              "      for await (const message of channel.messages) {\n",
              "        // Send a message to notify the kernel that we're ready.\n",
              "        channel.send({})\n",
              "        if (message.buffers) {\n",
              "          for (const buffer of message.buffers) {\n",
              "            buffers.push(buffer);\n",
              "            downloaded += buffer.byteLength;\n",
              "            progress.value = downloaded;\n",
              "          }\n",
              "        }\n",
              "      }\n",
              "      const blob = new Blob(buffers, {type: 'application/binary'});\n",
              "      const a = document.createElement('a');\n",
              "      a.href = window.URL.createObjectURL(blob);\n",
              "      a.download = filename;\n",
              "      div.appendChild(a);\n",
              "      a.click();\n",
              "      div.remove();\n",
              "    }\n",
              "  "
            ]
          },
          "metadata": {}
        },
        {
          "output_type": "display_data",
          "data": {
            "text/plain": [
              "<IPython.core.display.Javascript object>"
            ],
            "application/javascript": [
              "download(\"download_15372888-c196-4c33-bf24-f37f6adfe8eb\", \"new_df.csv\", 16784)"
            ]
          },
          "metadata": {}
        }
      ]
    }
  ]
}